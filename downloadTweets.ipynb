{
 "cells": [
  {
   "cell_type": "code",
   "execution_count": 1,
   "metadata": {},
   "outputs": [],
   "source": [
    "import tweepy\n",
    "import pandas as pd\n",
    "import datetime\n",
    "import unicodecsv\n",
    "import csv"
   ]
  },
  {
   "cell_type": "code",
   "execution_count": 2,
   "metadata": {},
   "outputs": [],
   "source": [
    "#Priyank'\n",
    "ACCESS_TOKEN = \"358823362-u50Gi5rDp27byNSoZa0dxvEXwVzhgobO68RKpb0i\"\n",
    "ACCESS_TOKEN_SECRET = \"qZjztXteoUDHMwsy7YAqW5VWeSB9LJgXm47RnrESYwSqa\"\n",
    "CONSUMER_KEY = \"S4K0fkgI7fgSs1mLidXKQhrbB\"\n",
    "CONSUMER_SECRET = \"lzB6gIx4GmDNSWhiyiiugXSKZOEbOqNEZGGV0vpD11B6hcsPhd\"\n",
    "#Vyom's\n",
    "consumer_key = \"2MRMtjhpUUu0PmnvjJ3hUtpq9\"\n",
    "consumer_secret = \"8m5kZQCJBMZM1mkJTQejBMI8S6otItihR96Nyn4N1pkZSCgoun\"\n",
    "access_key = \"902599637604986880-rgHTHOvRm8QNOtxEyb7RTqDOMMrCIzo\"\n",
    "access_secret = \"YVcrhlFhjifdk78M6Pc3cJxUWha4jJK5t5nEDDIP7JX87\""
   ]
  },
  {
   "cell_type": "code",
   "execution_count": 3,
   "metadata": {},
   "outputs": [],
   "source": [
    "def get_tweet(tid):\n",
    "    # Twitter only allows access to a users most recent 3240 tweets with this method\n",
    "\n",
    "    # authorize twitter, initialize tweepy\n",
    "    auth = tweepy.OAuthHandler(CONSUMER_KEY, CONSUMER_SECRET)\n",
    "    auth.set_access_token(ACCESS_TOKEN, ACCESS_TOKEN_SECRET)\n",
    "    api = tweepy.API(auth)\n",
    "    \n",
    "    # initialize a list to hold all the tweepy Tweets\n",
    "    # make initial request for most recent tweets (200 is the maximum allowed count)\n",
    "    try:\n",
    "        #tweets = tweepy.Cursor(api.search,q=keyword,count=1000,lang=\"en\",wait_on_rate_limit=True,wait_on_rate_limit_notify=True).items()\n",
    "        tweet = api.get_status(tid,wait_on_rate_limit=True,wait_on_rate_limit_notify=True,tweet_mode=\"extended\")\n",
    "        if \"retweeted_status\" in tweet._json:\n",
    "            outtweet = [tweet.retweeted_status.id_str,\n",
    "                         tweet.retweeted_status.full_text,tweet.retweeted_status.created_at.strftime('%m/%d/%Y'),\n",
    "                         \"True\",tweet.retweeted_status.user.favourites_count, tweet.retweeted_status.user.name,\n",
    "                         tweet.retweeted_status.user.screen_name,tweet.retweeted_status.user.id,\n",
    "                         tweet.retweeted_status.user.location,\n",
    "                         tweet.retweeted_status.user.followers_count,tweet.retweeted_status.user.friends_count,tweet.retweeted_status.user.created_at.strftime('%m/%d/%Y'),\n",
    "                         tweet.retweeted_status.user.statuses_count]\n",
    "        else:\n",
    "            outtweet = [tweet.id_str,\n",
    "                         tweet.full_text,tweet.created_at.strftime('%m/%d/%Y'),\n",
    "                         \"False\",tweet.user.favourites_count,tweet.user.name,\n",
    "                         tweet.user.screen_name,tweet.user.id,\n",
    "                         tweet.user.location,\n",
    "                         tweet.user.followers_count,tweet.user.friends_count,tweet.user.created_at.strftime('%m/%d/%Y'),\n",
    "                         tweet.user.statuses_count]\n",
    "            \n",
    "    except :\n",
    "        print (\"Error in\",tid)\n",
    "        outtweet = [\"None\"]\n",
    "\n",
    "    return outtweet"
   ]
  },
  {
   "cell_type": "code",
   "execution_count": 4,
   "metadata": {},
   "outputs": [],
   "source": [
    "data = pd.read_csv(\"/home/anant/adi project/output.csv\")"
   ]
  },
  {
   "cell_type": "code",
   "execution_count": null,
   "metadata": {
    "scrolled": true
   },
   "outputs": [
    {
     "name": "stdout",
     "output_type": "stream",
     "text": [
      "Error in 1063132219957538817\n",
      "Error in 1063132238278221825\n",
      "Error in 1063132434332610560\n",
      "Error in 1063132459980582912\n",
      "Error in 1063132587936374784\n",
      "Error in 1063132590327169024\n",
      "Error in 1063132733306781697\n",
      "Error in 1063132778965872640\n",
      "Error in 1063132827519250438\n",
      "Error in 1063132882619822080\n",
      "Error in 1063132976203087872\n",
      "Error in 1063132980321894400\n",
      "Error in 1063132986919567361\n",
      "Error in 1063133002945970176\n",
      "Error in 1063133056570195969\n",
      "Error in 1063133368202588160\n",
      "Error in 1063133524788686851\n",
      "Error in 1063133533890203648\n",
      "Error in 1063133546951426048\n",
      "Error in 1063133649850249218\n",
      "Error in 1063133651175645184\n",
      "Error in 1063133882235547648\n",
      "Error in 1063133930084229121\n",
      "Error in 1063134033994022917\n",
      "Error in 1063134157134426112\n",
      "Error in 1063134186859646976\n",
      "Error in 1063134190831656961\n",
      "Error in 1063134195038457856\n",
      "Error in 1063134432830390273\n",
      "Error in 1063134457379483648\n",
      "Error in 1063134516548644867\n",
      "Error in 1063134549650141184\n",
      "Error in 1063134593526779904\n",
      "Error in 1063134624988229632\n",
      "Error in 1063134729795485696\n",
      "Error in 1063134752478236672\n",
      "Error in 1063135051339218945\n",
      "Error in 1063135217895030784\n",
      "Error in 1063135283426877447\n",
      "Error in 1063135289919619072\n",
      "Error in 1063135293572833281\n",
      "Error in 1063135343115952128\n",
      "Error in 1063135436636217344\n",
      "Error in 1063135517078929410\n",
      "Error in 1063135528315469824\n",
      "Error in 1063135613136846848\n",
      "Error in 1063135713238114305\n",
      "Error in 1063136011918721024\n",
      "Error in 1063136056302886912\n",
      "Error in 1063136130973892608\n",
      "Error in 1063136157968424960\n",
      "Error in 1063136200578473986\n",
      "Error in 1063136304144244737\n",
      "Error in 1063136606050226176\n",
      "Error in 1063136758223814656\n",
      "Error in 1063136758559195136\n",
      "Error in 1063136940999016448\n",
      "Error in 1063137045126754305\n",
      "Error in 1063137112256593920\n",
      "Error in 1063137136671711232\n",
      "Error in 1063137142594043905\n",
      "Error in 1063137169672454144\n",
      "Error in 1063137200160804869\n"
     ]
    },
    {
     "name": "stderr",
     "output_type": "stream",
     "text": [
      "Rate limit reached. Sleeping for: 737\n"
     ]
    },
    {
     "name": "stdout",
     "output_type": "stream",
     "text": [
      "Error in 1063137589832704000\n",
      "Error in 1063137699924561920\n",
      "Error in 1063137703510884358\n",
      "Error in 1063137750927503360\n",
      "Error in 1063137874785288194\n",
      "Error in 1063137995275071488\n",
      "Error in 1063138014262648832\n",
      "Error in 1063138120105889793\n",
      "Error in 1063138214129610755\n",
      "Error in 1063138273470476288\n",
      "Error in 1063138281427255296\n",
      "Error in 1063138321562427392\n",
      "Error in 1063138428680839169\n",
      "Error in 1063138685225496576\n",
      "Error in 1063138781144997888\n",
      "Error in 1063138902746243073\n",
      "Error in 1063138908593160192\n",
      "Error in 1063138983117574144\n",
      "Error in 1063138999659888641\n",
      "Error in 1063139054798155776\n",
      "Error in 1063139128701788162\n",
      "Error in 1063139172888834049\n",
      "Error in 1063139359245918208\n",
      "Error in 1063139490024353792\n",
      "Error in 1063139681544663040\n",
      "Error in 1063139702499405824\n",
      "Error in 1063139987007229952\n",
      "Error in 1063140016677892099\n",
      "Error in 1063140058390298624\n",
      "Error in 1063140145065615360\n",
      "Error in 1063140174530576387\n",
      "Error in 1063140264359985155\n",
      "Error in 1063140318722342913\n",
      "Error in 1063140409587781632\n",
      "Error in 1063140459231485953\n",
      "Error in 1063140531113525249\n",
      "Error in 1063140738421022720\n",
      "Error in 1063140750404304896\n",
      "Error in 1063140928876175366\n",
      "Error in 1063141111605223424\n",
      "Error in 1063141124221612033\n",
      "Error in 1063141217943408640\n",
      "Error in 1063141242547003392\n",
      "Error in 1063141320691195904\n",
      "Error in 1063141342140715008\n",
      "Error in 1063141381550624768\n",
      "Error in 1063141487297347589\n",
      "Error in 1063141598324760577\n",
      "Error in 1063141692809736192\n",
      "Error in 1063141919054737408\n",
      "Error in 1063141925878824960\n",
      "Error in 1063142209787228167\n",
      "Error in 1063142250744569861\n",
      "Error in 1063142298752634882\n",
      "Error in 1063142303814959105\n",
      "Error in 1063142456731025408\n",
      "Error in 1063142642022838272\n",
      "Error in 1063142742258339841\n",
      "Error in 1063142817814462465\n"
     ]
    },
    {
     "name": "stderr",
     "output_type": "stream",
     "text": [
      "Rate limit reached. Sleeping for: 721\n"
     ]
    },
    {
     "name": "stdout",
     "output_type": "stream",
     "text": [
      "Error in 1063143042356518912\n",
      "Error in 1063143145095995394\n",
      "Error in 1063143455348715520\n",
      "Error in 1063143469428948992\n",
      "Error in 1063143485581099008\n",
      "Error in 1063143558729949185\n",
      "Error in 1063143868550414336\n",
      "Error in 1063143871494930432\n",
      "Error in 1063143886929809408\n",
      "Error in 1063144152337170432\n",
      "Error in 1063144223111692289\n",
      "Error in 1063144261405761538\n",
      "Error in 1063144281421029376\n",
      "Error in 1063144333933608960\n",
      "Error in 1063144359523168258\n",
      "Error in 1063144415148077058\n",
      "Error in 1063144556504510464\n",
      "Error in 1063144684128747525\n",
      "Error in 1063144722707943424\n",
      "Error in 1063145015898238976\n",
      "Error in 1063145065915260929\n",
      "Error in 1063145124388106240\n",
      "Error in 1063145174681837568\n",
      "Error in 1063145181417852929\n",
      "Error in 1063145210836934658\n",
      "Error in 1063145299634479104\n",
      "Error in 1063145370434310144\n",
      "Error in 1063145508330450944\n",
      "Error in 1063145667386884097\n",
      "Error in 1063145744134299649\n",
      "Error in 1063145776845602819\n",
      "Error in 1063145851768500224\n",
      "Error in 1063145990583083008\n",
      "Error in 1063146136461107200\n",
      "Error in 1063146379214761985\n",
      "Error in 1063146418989400064\n",
      "Error in 1063146516280496128\n",
      "Error in 1063146977200930817\n",
      "Error in 1063147045563850752\n",
      "Error in 1063147132855582720\n",
      "Error in 1063147176560345088\n",
      "Error in 1063147275067617280\n",
      "Error in 1063147285306073088\n",
      "Error in 1063147421398515712\n",
      "Error in 1063147502155825152\n",
      "Error in 1063147845228920832\n",
      "Error in 1063147854007435264\n",
      "Error in 1063147875595620359\n",
      "Error in 1063148011541295104\n",
      "Error in 1063148041845309440\n",
      "Error in 1063148044097675264\n",
      "Error in 1063148106697637888\n",
      "Error in 1063148134300352512\n",
      "Error in 1063148152176496640\n",
      "Error in 1063148353654022144\n",
      "Error in 1063148471824367618\n",
      "Error in 1063148880764772353\n",
      "Error in 1063149111946502144\n",
      "Error in 1063149274379239424\n",
      "Error in 1063149324157272071\n",
      "Error in 1063149528881266688\n",
      "Error in 1063149581771268096\n",
      "Error in 1063149655142359046\n",
      "Error in 1063149719852081153\n",
      "Error in 1063149956993871874\n"
     ]
    },
    {
     "name": "stderr",
     "output_type": "stream",
     "text": [
      "Rate limit reached. Sleeping for: 524\n"
     ]
    },
    {
     "name": "stdout",
     "output_type": "stream",
     "text": [
      "Error in 1063150127609667586\n",
      "Error in 1063150148186861568\n",
      "Error in 1063150164347707392\n",
      "Error in 1063150210338222080\n",
      "Error in 1063150378093629441\n",
      "Error in 1063150557324566529\n",
      "Error in 1063150943913406464\n",
      "Error in 1063150951220080642\n",
      "Error in 1063150994777890817\n",
      "Error in 1063151035668144130\n",
      "Error in 1063151123522088960\n",
      "Error in 1063151152563314688\n",
      "Error in 1063151235128209408\n",
      "Error in 1063151281408303104\n",
      "Error in 1063151384843968513\n",
      "Error in 1063151558853120001\n",
      "Error in 1063151695348330498\n",
      "Error in 1063151969714536449\n",
      "Error in 1063152019018461184\n",
      "Error in 1063152043278430208\n",
      "Error in 1063152085921759232\n",
      "Error in 1063152177286246400\n",
      "Error in 1063152189588234240\n",
      "Error in 1063152192734007297\n",
      "Error in 1063152266763554817\n",
      "Error in 1063152283205206017\n",
      "Error in 1063152314633072640\n",
      "Error in 1063152364801146882\n",
      "Error in 1063152378000613379\n",
      "Error in 1063152480807251968\n",
      "Error in 1063152497789886464\n",
      "Error in 1063152534779510784\n",
      "Error in 1063152752950435842\n",
      "Error in 1063152803923791872\n",
      "Error in 1063152937663377408\n",
      "Error in 1063153100687659009\n",
      "Error in 1063153166345211904\n",
      "Error in 1063153325577650176\n",
      "Error in 1063153662225088512\n",
      "Error in 1063153688380928000\n",
      "Error in 1063153790285725701\n",
      "Error in 1063154037242109952\n",
      "Error in 1063154368160002048\n",
      "Error in 1063154494593220610\n",
      "Error in 1063154650768121862\n",
      "Error in 1063154753134346240\n",
      "Error in 1063154846084214784\n",
      "Error in 1063154980448743424\n",
      "Error in 1063155039760515073\n",
      "Error in 1063155226419650560\n",
      "Error in 1063155378584608768\n",
      "Error in 1063155481068351488\n"
     ]
    },
    {
     "name": "stderr",
     "output_type": "stream",
     "text": [
      "Rate limit reached. Sleeping for: 629\n"
     ]
    },
    {
     "name": "stdout",
     "output_type": "stream",
     "text": [
      "Error in 1063155814712504320\n",
      "Error in 1063155886489776128\n",
      "Error in 1063155931444400129\n",
      "Error in 1063155992341438464\n",
      "Error in 1063156141603995648\n",
      "Error in 1063156220910059521\n",
      "Error in 1063156283593768960\n",
      "Error in 1063156615656955904\n",
      "Error in 1063156728945098752\n",
      "Error in 1063157003776917504\n",
      "Error in 1063157024287084549\n",
      "Error in 1063157045627502592\n",
      "Error in 1063157061175963648\n",
      "Error in 1063157071414222848\n",
      "Error in 1063157200355450880\n",
      "Error in 1063157210346283008\n",
      "Error in 1063157288373010435\n",
      "Error in 1063157539347537921\n",
      "Error in 1063157589347913728\n",
      "Error in 1063157728825262081\n",
      "Error in 1063157780696186881\n",
      "Error in 1063157864024494080\n",
      "Error in 1063157873268600832\n",
      "Error in 1063158288467013633\n",
      "Error in 1063158317445345280\n",
      "Error in 1063158380183908352\n",
      "Error in 1063158393324527617\n",
      "Error in 1063158428221104128\n",
      "Error in 1063158432658788357\n",
      "Error in 1063158535381491713\n",
      "Error in 1063158547536601088\n",
      "Error in 1063158557825097729\n",
      "Error in 1063158563672080390\n",
      "Error in 1063158630751653888\n",
      "Error in 1063158771353038848\n",
      "Error in 1063158800251867136\n",
      "Error in 1063159051993923584\n",
      "Error in 1063159066661404672\n",
      "Error in 1063159116170956800\n",
      "Error in 1063159118142324736\n",
      "Error in 1063159129295015941\n",
      "Error in 1063159225134784514\n",
      "Error in 1063159260786368512\n",
      "Error in 1063159283506966528\n"
     ]
    },
    {
     "name": "stderr",
     "output_type": "stream",
     "text": [
      "Rate limit reached. Sleeping for: 616\n"
     ]
    },
    {
     "name": "stdout",
     "output_type": "stream",
     "text": [
      "Error in 1063172774586445825\n",
      "Error in 1063172794660384768\n",
      "Error in 1063172933626052610\n",
      "Error in 1063173189541388288\n",
      "Error in 1063173220000501761\n",
      "Error in 1063173425148116992\n",
      "Error in 1063173432844656640\n",
      "Error in 1063173511420829696\n",
      "Error in 1063173724831182849\n",
      "Error in 1063173759190745088\n",
      "Error in 1063173895937843205\n",
      "Error in 1063173948773285888\n",
      "Error in 1063173950321147904\n",
      "Error in 1063174234250338305\n",
      "Error in 1063174373048238092\n",
      "Error in 1063174434285064194\n",
      "Error in 1063174460465967104\n",
      "Error in 1063174671347208192\n",
      "Error in 1063174891032272896\n",
      "Error in 1063175032782839808\n",
      "Error in 1063175063124434944\n",
      "Error in 1063175070422577152\n",
      "Error in 1063175184675430402\n",
      "Error in 1063175187686928389\n",
      "Error in 1063175233056768002\n",
      "Error in 1063175481346928640\n",
      "Error in 1063175666596700160\n",
      "Error in 1063175709093494785\n",
      "Error in 1063175799132561409\n",
      "Error in 1063175826487853058\n",
      "Error in 1063176183536406529\n",
      "Error in 1063176412256002053\n",
      "Error in 1063176519705681921\n",
      "Error in 1063176546314280960\n",
      "Error in 1063176605336592390\n",
      "Error in 1063176782063403009\n",
      "Error in 1063176793753034752\n",
      "Error in 1063176887592202240\n",
      "Error in 1063176923793129473\n",
      "Error in 1063177076860170240\n",
      "Error in 1063177112381808640\n",
      "Error in 1063177211769810944\n",
      "Error in 1063177624200056837\n",
      "Error in 1063177975552716803\n",
      "Error in 1063178041223012363\n",
      "Error in 1063178055626088448\n",
      "Error in 1063178188916998144\n",
      "Error in 1063178318349066240\n",
      "Error in 1063178493058519042\n",
      "Error in 1063178771958763521\n"
     ]
    },
    {
     "name": "stderr",
     "output_type": "stream",
     "text": [
      "Rate limit reached. Sleeping for: 563\n"
     ]
    },
    {
     "name": "stdout",
     "output_type": "stream",
     "text": [
      "Error in 1063178816644739072\n",
      "Error in 1063178879953555461\n",
      "Error in 1063179095650041856\n",
      "Error in 1063179256824455168\n",
      "Error in 1063179261836701696\n",
      "Error in 1063179545912721411\n",
      "Error in 1063179609632595969\n",
      "Error in 1063179663214817281\n",
      "Error in 1063179891288481793\n",
      "Error in 1063179928156454912\n",
      "Error in 1063180088194293760\n",
      "Error in 1063180162966134786\n",
      "Error in 1063180185770561538\n",
      "Error in 1063180320609046530\n",
      "Error in 1063180374891728897\n",
      "Error in 1063180497310937091\n",
      "Error in 1063180598775332864\n",
      "Error in 1063180743428489217\n",
      "Error in 1063180891990773769\n",
      "Error in 1063181019937787904\n",
      "Error in 1063181097507479554\n",
      "Error in 1063181249303404544\n",
      "Error in 1063181503788711941\n",
      "Error in 1063181704645484544\n",
      "Error in 1063181744311095297\n",
      "Error in 1063181810283143168\n",
      "Error in 1063181970967027712\n",
      "Error in 1063182229898022912\n",
      "Error in 1063182267479191557\n",
      "Error in 1063182479199211526\n",
      "Error in 1063182510459363328\n",
      "Error in 1063182559390031872\n",
      "Error in 1063182653074141184\n",
      "Error in 1063182687492464640\n",
      "Error in 1063182708308766721\n",
      "Error in 1063182953919012864\n",
      "Error in 1063183005592834048\n",
      "Error in 1063183042141810688\n",
      "Error in 1063183083606888454\n",
      "Error in 1063183110366474241\n",
      "Error in 1063183166997962754\n",
      "Error in 1063183249416114177\n",
      "Error in 1063183360334446594\n",
      "Error in 1063183554853646337\n",
      "Error in 1063183885088055296\n",
      "Error in 1063183900753694720\n",
      "Error in 1063184092798234624\n",
      "Error in 1063184218702929924\n"
     ]
    },
    {
     "name": "stderr",
     "output_type": "stream",
     "text": [
      "Rate limit reached. Sleeping for: 630\n"
     ]
    },
    {
     "name": "stdout",
     "output_type": "stream",
     "text": [
      "Error in 1063184537113559041\n",
      "Error in 1063184808958783488\n",
      "Error in 1063184816093454339\n",
      "Error in 1063184876059480065\n",
      "Error in 1063184918455427073\n",
      "Error in 1063185188920967171\n",
      "Error in 1063185233019789312\n",
      "Error in 1063185445515878400\n",
      "Error in 1063185509525151744\n",
      "Error in 1063185703406841857\n",
      "Error in 1063185932705284098\n",
      "Error in 1063185953513185280\n",
      "Error in 1063186035717345281\n",
      "Error in 1063186044605161472\n",
      "Error in 1063186180676771842\n",
      "Error in 1063186247865241600\n",
      "Error in 1063186545665077257\n",
      "Error in 1063186591269642242\n",
      "Error in 1063186594331615232\n",
      "Error in 1063186613306482688\n",
      "Error in 1063186826347851781\n",
      "Error in 1063186860015521800\n",
      "Error in 1063186911232225282\n",
      "Error in 1063186935370444805\n",
      "Error in 1063187034372825088\n",
      "Error in 1063187038260916225\n",
      "Error in 1063187176459038721\n",
      "Error in 1063187261716602880\n",
      "Error in 1063187360727347201\n",
      "Error in 1063187506017984512\n",
      "Error in 1063187759643467776\n",
      "Error in 1063187810595758080\n",
      "Error in 1063187881932570624\n",
      "Error in 1063187926014615553\n",
      "Error in 1063188093098876928\n",
      "Error in 1063188097289064448\n",
      "Error in 1063188136799477760\n",
      "Error in 1063188237391446016\n",
      "Error in 1063188239211732992\n",
      "Error in 1063188468359200768\n",
      "Error in 1063188493470482432\n",
      "Error in 1063188584469909505\n",
      "Error in 1063188645778214917\n",
      "Error in 1063188672785338370\n",
      "Error in 1063188853010440193\n",
      "Error in 1063188987857186816\n",
      "Error in 1063189043821858821\n",
      "Error in 1063189044803379200\n",
      "Error in 1063189051111628802\n",
      "Error in 1063189104467238912\n",
      "Error in 1063189147903508480\n",
      "Error in 1063189208188239873\n",
      "Error in 1063189239955779585\n",
      "Error in 1063189242782892033\n",
      "Error in 1063189264387600384\n"
     ]
    },
    {
     "name": "stderr",
     "output_type": "stream",
     "text": [
      "Rate limit reached. Sleeping for: 610\n"
     ]
    },
    {
     "name": "stdout",
     "output_type": "stream",
     "text": [
      "Error in 1063189365223038976\n",
      "Error in 1063189531736895488\n",
      "Error in 1063189776998821888\n",
      "Error in 1063189779372756992\n",
      "Error in 1063189859068571648\n",
      "Error in 1063189965901840384\n",
      "Error in 1063190023657394177\n",
      "Error in 1063190076203720705\n",
      "Error in 1063190096466329602\n",
      "Error in 1063190205090414592\n",
      "Error in 1063190304075870208\n",
      "Error in 1063190309461471232\n",
      "Error in 1063190334644121603\n",
      "Error in 1063190345612066817\n",
      "Error in 1063190648084402176\n",
      "Error in 1063190707962343424\n",
      "Error in 1063190718771023872\n",
      "Error in 1063190839290200066\n",
      "Error in 1063191149387677697\n",
      "Error in 1063191155142082560\n",
      "Error in 1063191181864005633\n",
      "Error in 1063191290907684864\n",
      "Error in 1063191293994643456\n",
      "Error in 1063191459569041408\n",
      "Error in 1063191483761729536\n",
      "Error in 1063191519027355648\n",
      "Error in 1063191542691782657\n",
      "Error in 1063191605300088833\n",
      "Error in 1063191698098937856\n",
      "Error in 1063191744903180288\n",
      "Error in 1063191762963959808\n",
      "Error in 1063191845600153601\n",
      "Error in 1063191956325629952\n",
      "Error in 1063192005017288707\n",
      "Error in 1063192040693993472\n",
      "Error in 1063192076979003392\n",
      "Error in 1063192323784364032\n",
      "Error in 1063192325428518915\n",
      "Error in 1063192359020781568\n",
      "Error in 1063192445419180033\n",
      "Error in 1063192493905199104\n",
      "Error in 1063192509650743298\n",
      "Error in 1063192595831115776\n",
      "Error in 1063192602554630146\n",
      "Error in 1063192646338994176\n",
      "Error in 1063192712684302336\n",
      "Error in 1063192868230172672\n",
      "Error in 1063192987381977089\n",
      "Error in 1063193062137110529\n",
      "Error in 1063193149357678592\n",
      "Error in 1063193292958035968\n",
      "Error in 1063193356581392384\n",
      "Error in 1063193361115488256\n",
      "Error in 1063193417713360896\n",
      "Error in 1063193437120401408\n",
      "Error in 1063193496243310592\n",
      "Error in 1063193582180466690\n",
      "Error in 1063193666750242816\n"
     ]
    },
    {
     "name": "stderr",
     "output_type": "stream",
     "text": [
      "Rate limit reached. Sleeping for: 602\n"
     ]
    },
    {
     "name": "stdout",
     "output_type": "stream",
     "text": [
      "Error in 1063193782542323712\n",
      "Error in 1063193795070697490\n",
      "Error in 1063193809000034304\n",
      "Error in 1063193840306270208\n",
      "Error in 1063193907545030658\n",
      "Error in 1063194399776169984\n",
      "Error in 1063194419921338368\n",
      "Error in 1063194465551220736\n",
      "Error in 1063194478519992320\n",
      "Error in 1063194601148829696\n",
      "Error in 1063194663501348866\n",
      "Error in 1063194726281572352\n",
      "Error in 1063194755616657413\n",
      "Error in 1063194799895969799\n",
      "Error in 1063194819500171267\n",
      "Error in 1063194846511460352\n",
      "Error in 1063194847396282368\n",
      "Error in 1063194982893408256\n",
      "Error in 1063194983757418496\n",
      "Error in 1063195001637793792\n",
      "Error in 1063195093111373825\n",
      "Error in 1063195095908970497\n",
      "Error in 1063195126305103873\n",
      "Error in 1063195189903269888\n",
      "Error in 1063195197536899078\n",
      "Error in 1063195200108007425\n",
      "Error in 1063195308321062912\n",
      "Error in 1063195349383290880\n",
      "Error in 1063195353204342784\n",
      "Error in 1063195550999293952\n",
      "Error in 1063195571836600327\n",
      "Error in 1063195597606400006\n",
      "Error in 1063195624764526592\n",
      "Error in 1063195840976703488\n",
      "Error in 1063195962062118912\n",
      "Error in 1063195984350580736\n",
      "Error in 1063196077938089985\n",
      "Error in 1063196106388107265\n",
      "Error in 1063196192933363712\n",
      "Error in 1063196299317731329\n",
      "Error in 1063196336420515845\n",
      "Error in 1063196558592696321\n",
      "Error in 1063196589110501376\n",
      "Error in 1063196704663629824\n",
      "Error in 1063196750465380353\n",
      "Error in 1063196813195452417\n",
      "Error in 1063196854119251969\n",
      "Error in 1063196978505543691\n",
      "Error in 1063197034163761152\n",
      "Error in 1063197035732430848\n",
      "Error in 1063197042162450432\n",
      "Error in 1063197104619864064\n",
      "Error in 1063197121430601728\n",
      "Error in 1063197139231223808\n",
      "Error in 1063197139147341824\n",
      "Error in 1063197161956040704\n",
      "Error in 1063197173821710336\n",
      "Error in 1063197192834420738\n",
      "Error in 1063197208051412992\n",
      "Error in 1063197221338968066\n",
      "Error in 1063197236018982912\n",
      "Error in 1063197255543476224\n",
      "Error in 1063197274459774977\n",
      "Error in 1063197291505438720\n",
      "Error in 1063197309952032768\n",
      "Error in 1063197331024199682\n",
      "Error in 1063197348459888645\n",
      "Error in 1063197365274902534\n",
      "Error in 1063197380823195648\n",
      "Error in 1063197398493786112\n",
      "Error in 1063197415631712257\n",
      "Error in 1063197435621707776\n",
      "Error in 1063197453015572480\n",
      "Error in 1063197470480568320\n",
      "Error in 1063197489518575616\n",
      "Error in 1063197507059138560\n",
      "Error in 1063197523878252546\n",
      "Error in 1063197539120361472\n",
      "Error in 1063197551665532929\n",
      "Error in 1063197554907729926\n",
      "Error in 1063197557730488320\n",
      "Error in 1063197570799931398\n",
      "Error in 1063197576089010176\n",
      "Error in 1063197585077428224\n",
      "Error in 1063197587128418306\n",
      "Error in 1063197603435872257\n",
      "Error in 1063197619349000194\n",
      "Error in 1063197636398903296\n",
      "Error in 1063197663221428224\n",
      "Error in 1063197663183671296\n",
      "Error in 1063197679151472640\n",
      "Error in 1063197690354380800\n",
      "Error in 1063197700441718784\n",
      "Error in 1063197733589315589\n",
      "Error in 1063197763729534978\n",
      "Error in 1063197909569716224\n",
      "Error in 1063198019238154240\n",
      "Error in 1063198021385621505\n",
      "Error in 1063198029879029760\n",
      "Error in 1063198062137434112\n",
      "Error in 1063198074892365824\n"
     ]
    },
    {
     "name": "stderr",
     "output_type": "stream",
     "text": [
      "Rate limit reached. Sleeping for: 602\n"
     ]
    },
    {
     "name": "stdout",
     "output_type": "stream",
     "text": [
      "Error in 1063198083897573376\n",
      "Error in 1063198155452252160\n",
      "Error in 1063198172883943424\n",
      "Error in 1063198218996117505\n",
      "Error in 1063198360704827392\n",
      "Error in 1063198450718834689\n",
      "Error in 1063198539633885184\n",
      "Error in 1063198568675229698\n",
      "Error in 1063198628754407425\n",
      "Error in 1063198653030912000\n",
      "Error in 1063198782102351873\n",
      "Error in 1063199074453676033\n",
      "Error in 1063199187779690496\n",
      "Error in 1063199238321000448\n",
      "Error in 1063199260781375488\n",
      "Error in 1063199339407908865\n",
      "Error in 1063199379065065472\n",
      "Error in 1063199552440799232\n",
      "Error in 1063199637648101376\n",
      "Error in 1063199706522750982\n",
      "Error in 1063199833899655171\n",
      "Error in 1063199893731205120\n",
      "Error in 1063199901348257792\n",
      "Error in 1063199943492608000\n",
      "Error in 1063200115819798529\n",
      "Error in 1063200475586142211\n",
      "Error in 1063200582813564930\n",
      "Error in 1063200600035348480\n",
      "Error in 1063200742150946817\n",
      "Error in 1065760525449981952\n",
      "Error in 1065761611703496704\n",
      "Error in 1065772769177231365\n",
      "Error in 1065782010839474177\n",
      "Error in 1065783774716157952\n",
      "Error in 1065788104190148608\n"
     ]
    },
    {
     "name": "stderr",
     "output_type": "stream",
     "text": [
      "Rate limit reached. Sleeping for: 635\n"
     ]
    },
    {
     "name": "stdout",
     "output_type": "stream",
     "text": [
      "Error in 1065788766105845760\n",
      "Error in 1065791059198992384\n",
      "Error in 1065791513693687808\n",
      "Error in 1065797247722549250\n",
      "Error in 1065797686543114240\n",
      "Error in 1065797754880806913\n",
      "Error in 1065797926067290112\n",
      "Error in 1065803202669481984\n",
      "Error in 1065803785451249664\n",
      "Error in 1065804009754243072\n",
      "Error in 1065804755190968320\n",
      "Error in 1065805257870123008\n",
      "Error in 1065813183363919877\n",
      "Error in 1065816740976685058\n",
      "Error in 1065816897843793920\n",
      "Error in 1065820458644201472\n",
      "Error in 1065823731556253698\n",
      "Error in 1065823914243366912\n",
      "Error in 1065827777683820544\n",
      "Error in 1062896758299082752\n"
     ]
    },
    {
     "name": "stderr",
     "output_type": "stream",
     "text": [
      "Rate limit reached. Sleeping for: 526\n"
     ]
    },
    {
     "name": "stdout",
     "output_type": "stream",
     "text": [
      "Error in 1062896940696907779\n",
      "Error in 1062897279332478977\n",
      "Error in 1062897375755296775\n",
      "Error in 1062897479773958144\n",
      "Error in 1062897509490745344\n",
      "Error in 1062897614503460864\n",
      "Error in 1062897684200255493\n",
      "Error in 1062897699500941312\n",
      "Error in 1062897993031041024\n",
      "Error in 1062898191895576576\n",
      "Error in 1062898200917540864\n",
      "Error in 1062898321767858176\n",
      "Error in 1062898475958968321\n",
      "Error in 1062898605147725824\n",
      "Error in 1062898627222388736\n",
      "Error in 1062899032832434176\n",
      "Error in 1062899271286968320\n",
      "Error in 1062899650796142592\n",
      "Error in 1062900110873440261\n",
      "Error in 1062900203760611328\n",
      "Error in 1062900318382505985\n",
      "Error in 1062900496124366848\n",
      "Error in 1062900645471182848\n",
      "Error in 1062900884802297857\n",
      "Error in 1062901094106517505\n"
     ]
    },
    {
     "name": "stderr",
     "output_type": "stream",
     "text": [
      "Rate limit reached. Sleeping for: 675\n"
     ]
    },
    {
     "name": "stdout",
     "output_type": "stream",
     "text": [
      "Error in 1062901466367754242\n",
      "Error in 1062901878063796224\n",
      "Error in 1062902063024234497\n",
      "Error in 1062902216514813952\n",
      "Error in 1062902299562045440\n",
      "Error in 1062902322471276544\n",
      "Error in 1062902541229453313\n",
      "Error in 1062902928728420354\n",
      "Error in 1062903404694040576\n",
      "Error in 1062903451078799360\n",
      "Error in 1062903865933090816\n",
      "Error in 1062903893317873664\n",
      "Error in 1062903988163612673\n",
      "Error in 1062904102311657472\n",
      "Error in 1062904221299863552\n",
      "Error in 1062904460446445571\n",
      "Error in 1062904579342393345\n",
      "Error in 1062904671331737600\n",
      "Error in 1062904702948593664\n",
      "Error in 1062904801229504513\n",
      "Error in 1062904856891932672\n",
      "Error in 1062904898533122048\n",
      "Error in 1062905274506375175\n",
      "Error in 1062905506719809542\n",
      "Error in 1062905573509865473\n"
     ]
    },
    {
     "name": "stderr",
     "output_type": "stream",
     "text": [
      "Rate limit reached. Sleeping for: 596\n"
     ]
    },
    {
     "name": "stdout",
     "output_type": "stream",
     "text": [
      "Error in 1062905657823817728\n",
      "Error in 1062905664668921856\n",
      "Error in 1062905696524615680\n",
      "Error in 1062905828452253699\n",
      "Error in 1062906030735134721\n",
      "Error in 1062906152407654402\n",
      "Error in 1062906242358624256\n",
      "Error in 1062906249598124032\n",
      "Error in 1062906527361593345\n",
      "Error in 1062906601475072003\n",
      "Error in 1062906607401611265\n",
      "Error in 1062906840944652288\n",
      "Error in 1062906872485822465\n",
      "Error in 1062907481456807938\n",
      "Error in 1062907668900274177\n",
      "Error in 1062907687908843521\n",
      "Error in 1062907770838679553\n",
      "Error in 1062907861293060097\n",
      "Error in 1062908162779561985\n",
      "Error in 1062908187404316672\n",
      "Error in 1062908227757727746\n",
      "Error in 1062908451498745856\n",
      "Error in 1062908584701452288\n",
      "Error in 1062908760807665666\n",
      "Error in 1062908902092660736\n",
      "Error in 1062908926411395073\n",
      "Error in 1062908962033541121\n",
      "Error in 1062908970178830336\n"
     ]
    },
    {
     "name": "stderr",
     "output_type": "stream",
     "text": [
      "Rate limit reached. Sleeping for: 577\n"
     ]
    },
    {
     "name": "stdout",
     "output_type": "stream",
     "text": [
      "Error in 1062909259208445952\n",
      "Error in 1062909347288670209\n",
      "Error in 1062909829713354752\n",
      "Error in 1062909883987546112\n",
      "Error in 1062910291921428480\n",
      "Error in 1062910418744573952\n",
      "Error in 1062910508724977664\n",
      "Error in 1062910617940447232\n",
      "Error in 1062910705547034624\n",
      "Error in 1062910714476720128\n",
      "Error in 1062910799478484992\n",
      "Error in 1062910957159092224\n",
      "Error in 1062910959289856000\n",
      "Error in 1062911168778588161\n",
      "Error in 1062911184372871168\n",
      "Error in 1062911283526279171\n",
      "Error in 1062911394339680256\n",
      "Error in 1062911470038646786\n",
      "Error in 1062911580428353537\n",
      "Error in 1062911644576165888\n",
      "Error in 1062911872406417408\n",
      "Error in 1062911905558290433\n",
      "Error in 1062911954065321986\n",
      "Error in 1062911978757189638\n",
      "Error in 1062912088874598411\n",
      "Error in 1062912158785331200\n",
      "Error in 1062912174304030720\n",
      "Error in 1062912177831587841\n",
      "Error in 1062912188522868736\n",
      "Error in 1062912249805844480\n",
      "Error in 1062912495160057856\n",
      "Error in 1062912534536167424\n"
     ]
    },
    {
     "name": "stderr",
     "output_type": "stream",
     "text": [
      "Rate limit reached. Sleeping for: 577\n"
     ]
    },
    {
     "name": "stdout",
     "output_type": "stream",
     "text": [
      "Error in 1062912644313567232\n",
      "Error in 1062912746386268161\n",
      "Error in 1062912752312823809\n",
      "Error in 1062912827994918912\n",
      "Error in 1062912887549779968\n",
      "Error in 1062913075559440384\n",
      "Error in 1062913097403392000\n",
      "Error in 1062913219080216576\n",
      "Error in 1062913237749022720\n",
      "Error in 1062913240265621505\n",
      "Error in 1062913270061957120\n",
      "Error in 1062913386470670338\n",
      "Error in 1062913415671398400\n",
      "Error in 1062913641924579328\n",
      "Error in 1062913684710789120\n",
      "Error in 1062913695578316800\n",
      "Error in 1062913912503459841\n",
      "Error in 1062913976646975493\n",
      "Error in 1062914071115100162\n",
      "Error in 1062914143857111041\n",
      "Error in 1062914158407114752\n",
      "Error in 1062914171371700225\n",
      "Error in 1062914201155440640\n",
      "Error in 1062914390054313985\n",
      "Error in 1062914454839529477\n",
      "Error in 1062914744800006144\n",
      "Error in 1062914820826152962\n",
      "Error in 1062914964757798912\n",
      "Error in 1062915175660093440\n",
      "Error in 1062915468179042305\n",
      "Error in 1062915552568467456\n",
      "Error in 1062915733162782720\n",
      "Error in 1062915739416387584\n",
      "Error in 1062915855460261888\n"
     ]
    },
    {
     "name": "stderr",
     "output_type": "stream",
     "text": [
      "Rate limit reached. Sleeping for: 600\n"
     ]
    },
    {
     "name": "stdout",
     "output_type": "stream",
     "text": [
      "Error in 1062915989216641025\n",
      "Error in 1062916028370505728\n",
      "Error in 1062916169802399745\n",
      "Error in 1062916332751122432\n",
      "Error in 1062916433204731905\n",
      "Error in 1062916505656946689\n",
      "Error in 1062916530877296640\n",
      "Error in 1062916558647898112\n",
      "Error in 1062916672296796161\n",
      "Error in 1062916748926697472\n",
      "Error in 1062916767352115200\n",
      "Error in 1062916770518966272\n",
      "Error in 1062916903730139137\n",
      "Error in 1062916950244900865\n",
      "Error in 1062917055685496832\n",
      "Error in 1062917086941310976\n",
      "Error in 1062917256378757120\n",
      "Error in 1062917387467534338\n",
      "Error in 1062917421609046016\n",
      "Error in 1062917449404825600\n",
      "Error in 1062917470506364928\n",
      "Error in 1062917575150055424\n",
      "Error in 1062917698726846464\n",
      "Error in 1062917814762303493\n",
      "Error in 1062917897847111680\n",
      "Error in 1062917925953138688\n",
      "Error in 1062917958723235840\n",
      "Error in 1062917979438862337\n",
      "Error in 1062918057620897793\n",
      "Error in 1062918195470913536\n",
      "Error in 1062918226571681792\n",
      "Error in 1062918412660174848\n",
      "Error in 1062918741187575811\n",
      "Error in 1062918812100714496\n",
      "Error in 1062918819251920899\n",
      "Error in 1062919073581948928\n",
      "Error in 1062919176967409665\n",
      "Error in 1062919195992694784\n",
      "Error in 1062919201545953280\n"
     ]
    },
    {
     "name": "stderr",
     "output_type": "stream",
     "text": [
      "Rate limit reached. Sleeping for: 550\n"
     ]
    },
    {
     "name": "stdout",
     "output_type": "stream",
     "text": [
      "Error in 1062919319489785856\n",
      "Error in 1062919342550081536\n",
      "Error in 1062919429300862977\n",
      "Error in 1062919522829656070\n",
      "Error in 1062919577322078209\n",
      "Error in 1062919624075833344\n",
      "Error in 1062919856348188673\n",
      "Error in 1062919901357203456\n",
      "Error in 1062919955300212736\n",
      "Error in 1062919967786651648\n",
      "Error in 1062920041925132290\n",
      "Error in 1062920080651182080\n",
      "Error in 1062920279649742848\n",
      "Error in 1062920368330080256\n",
      "Error in 1062920598827999232\n",
      "Error in 1062920659079184384\n",
      "Error in 1062920774460325888\n",
      "Error in 1062973935648681984\n",
      "Error in 1062974008004612097\n",
      "Error in 1062975526392889344\n",
      "Error in 1062975767070601216\n",
      "Error in 1062976090115842048\n",
      "Error in 1062976518719188992\n",
      "Error in 1062977335761219584\n",
      "Error in 1062977626082467840\n",
      "Error in 1062977954047766528\n",
      "Error in 1062978102022889472\n",
      "Error in 1062978201092161536\n",
      "Error in 1062978474753826817\n",
      "Error in 1062978549336936452\n",
      "Error in 1062978894624681985\n",
      "Error in 1062978951306342400\n",
      "Error in 1062979481848238080\n",
      "Error in 1062979574559133696\n",
      "Error in 1062981105224019968\n",
      "Error in 1062981824824201216\n"
     ]
    },
    {
     "name": "stderr",
     "output_type": "stream",
     "text": [
      "Rate limit reached. Sleeping for: 737\n"
     ]
    },
    {
     "name": "stdout",
     "output_type": "stream",
     "text": [
      "Error in 1062982592562167808\n",
      "Error in 1062983086265241600\n",
      "Error in 1062983632485318656\n",
      "Error in 1062983770746302464\n",
      "Error in 1062986908576342016\n",
      "Error in 1062992485675229184\n",
      "Error in 1062992924974161921\n",
      "Error in 1062993880256139264\n",
      "Error in 1062994005061976064\n",
      "Error in 1062994179138170880\n",
      "Error in 1062994733755117568\n",
      "Error in 1062995653507276800\n",
      "Error in 1062996668960755712\n",
      "Error in 1062998814687150080\n",
      "Error in 1063000854876315648\n",
      "Error in 1063001659364855808\n",
      "Error in 1063002361784950785\n",
      "Error in 1063002945527078912\n",
      "Error in 1063004679267860481\n",
      "Error in 1063004774336028672\n",
      "Error in 1063005145355694081\n"
     ]
    },
    {
     "name": "stderr",
     "output_type": "stream",
     "text": [
      "Rate limit reached. Sleeping for: 737\n"
     ]
    },
    {
     "name": "stdout",
     "output_type": "stream",
     "text": [
      "Error in 1064792243670827008\n",
      "Error in 1064792690112499712\n",
      "Error in 1064793983749111808\n",
      "Error in 1064794230390845441\n",
      "Error in 1064794425820307456\n",
      "Error in 1064795122498453504\n",
      "Error in 1064796661032062977\n",
      "Error in 1064797035700703232\n",
      "Error in 1064797276403638273\n",
      "Error in 1064798069840060416\n",
      "Error in 1064798694522925057\n",
      "Error in 1064798748449140736\n",
      "Error in 1064799312792743937\n",
      "Error in 1064800148914618369\n",
      "Error in 1064800205705494528\n",
      "Error in 1064800683306700800\n",
      "Error in 1064801177617948674\n",
      "Error in 1064803536247156736\n",
      "Error in 1064804473833443328\n",
      "Error in 1064805613199392768\n",
      "Error in 1064810044393431040\n",
      "Error in 1064810556207509504\n"
     ]
    },
    {
     "name": "stderr",
     "output_type": "stream",
     "text": [
      "Rate limit reached. Sleeping for: 738\n"
     ]
    },
    {
     "name": "stdout",
     "output_type": "stream",
     "text": [
      "Error in 1063666232983982082\n",
      "Error in 1063666256748908544\n",
      "Error in 1063666260079185922\n",
      "Error in 1063666261001822208\n",
      "Error in 1063666267326955525\n",
      "Error in 1063666277120688131\n",
      "Error in 1063666311773986816\n",
      "Error in 1063666318161977346\n",
      "Error in 1063666417126453248\n",
      "Error in 1063666457068789760\n",
      "Error in 1063666496457646081\n",
      "Error in 1063666500387524608\n",
      "Error in 1063666544532750336\n",
      "Error in 1063666547464523777\n",
      "Error in 1063666554011828225\n",
      "Error in 1063666554783637504\n",
      "Error in 1063666561091756032\n",
      "Error in 1063666578615611392\n",
      "Error in 1063666591517343744\n",
      "Error in 1063666594520420352\n",
      "Error in 1063666618947923968\n",
      "Error in 1063666624832643072\n",
      "Error in 1063666675675914241\n",
      "Error in 1063666684341440512\n",
      "Error in 1063666744600883200\n",
      "Error in 1063666812343136256\n",
      "Error in 1063666944547549186\n",
      "Error in 1063666962792820737\n",
      "Error in 1063666964298526721\n",
      "Error in 1063666980857806848\n",
      "Error in 1063667033269661697\n",
      "Error in 1063667057135415297\n",
      "Error in 1063667064072806400\n"
     ]
    },
    {
     "name": "stderr",
     "output_type": "stream",
     "text": [
      "Rate limit reached. Sleeping for: 702\n"
     ]
    },
    {
     "name": "stdout",
     "output_type": "stream",
     "text": [
      "Error in 1063667167047155713\n",
      "Error in 1063667176442351616\n",
      "Error in 1063667232713072640\n",
      "Error in 1063667254947168257\n",
      "Error in 1063667311696072704\n",
      "Error in 1063667312547512322\n",
      "Error in 1063667321384910849\n",
      "Error in 1063667336425684993\n",
      "Error in 1063667342129995776\n",
      "Error in 1063667356738772992\n",
      "Error in 1063667487378526208\n",
      "Error in 1063667578785202177\n",
      "Error in 1063667672817258497\n",
      "Error in 1063667675572944896\n",
      "Error in 1063667711258124288\n",
      "Error in 1063667738311356416\n",
      "Error in 1063667745298964480\n",
      "Error in 1063667771123343361\n",
      "Error in 1063667782980579328\n",
      "Error in 1063667787317547009\n",
      "Error in 1063667803918602240\n",
      "Error in 1063667818795855879\n",
      "Error in 1063667830221094912\n",
      "Error in 1063667870297612289\n",
      "Error in 1063667876366860288\n"
     ]
    },
    {
     "name": "stderr",
     "output_type": "stream",
     "text": [
      "Rate limit reached. Sleeping for: 726\n"
     ]
    },
    {
     "name": "stdout",
     "output_type": "stream",
     "text": [
      "Error in 1063667973418819584\n",
      "Error in 1063667987834499073\n",
      "Error in 1063668025323331585\n",
      "Error in 1063668026317377537\n",
      "Error in 1063668051583717377\n",
      "Error in 1063668093279485952\n",
      "Error in 1063668166117793792\n",
      "Error in 1063668211428794368\n",
      "Error in 1063668224364027904\n",
      "Error in 1063668226540937216\n",
      "Error in 1063668245033598976\n",
      "Error in 1063668249932562432\n",
      "Error in 1063668252423798784\n",
      "Error in 1063668274221604869\n",
      "Error in 1063668287257509888\n",
      "Error in 1063668319197237248\n",
      "Error in 1063668338973384704\n",
      "Error in 1063668389527412736\n",
      "Error in 1063668397370744833\n",
      "Error in 1063668434721021952\n",
      "Error in 1063668444497932288\n",
      "Error in 1063668455583272960\n",
      "Error in 1063668497056768000\n",
      "Error in 1063668532444127233\n",
      "Error in 1063668584864460800\n",
      "Error in 1063668690854518784\n",
      "Error in 1063668708084760576\n",
      "Error in 1063668712132222976\n",
      "Error in 1063668716351733761\n",
      "Error in 1063668728536096768\n",
      "Error in 1063668789630418946\n",
      "Error in 1063668791840714753\n"
     ]
    },
    {
     "name": "stderr",
     "output_type": "stream",
     "text": [
      "Rate limit reached. Sleeping for: 728\n"
     ]
    },
    {
     "name": "stdout",
     "output_type": "stream",
     "text": [
      "Error in 1063668872388194305\n",
      "Error in 1063668873742946304\n",
      "Error in 1063668917913247744\n",
      "Error in 1063668927505580033\n",
      "Error in 1063668932060557314\n",
      "Error in 1063668937815220224\n",
      "Error in 1063668982891364354\n",
      "Error in 1063669005360267264\n",
      "Error in 1063669021176938496\n",
      "Error in 1063669022003089409\n",
      "Error in 1063669045017202688\n",
      "Error in 1063669072825655296\n",
      "Error in 1063669078051745793\n",
      "Error in 1063669113409593344\n",
      "Error in 1063669139099787264\n",
      "Error in 1063669140089643008\n",
      "Error in 1063669180619096065\n",
      "Error in 1063669181042835456\n",
      "Error in 1063669201255174145\n",
      "Error in 1063669213183787008\n",
      "Error in 1063669249137356800\n",
      "Error in 1063669267428765697\n",
      "Error in 1063669271052644352\n",
      "Error in 1063669377835315200\n",
      "Error in 1063669390816788485\n",
      "Error in 1063669395262586881\n",
      "Error in 1063669399683571712\n",
      "Error in 1063669437193015296\n",
      "Error in 1063669504826400768\n",
      "Error in 1063669550393241601\n",
      "Error in 1063669550393241601\n",
      "Error in 1063669574372139008\n",
      "Error in 1063669628436537344\n"
     ]
    },
    {
     "name": "stderr",
     "output_type": "stream",
     "text": [
      "Rate limit reached. Sleeping for: 599\n"
     ]
    },
    {
     "name": "stdout",
     "output_type": "stream",
     "text": [
      "Error in 1063669714243723265\n",
      "Error in 1063669772049678336\n",
      "Error in 1063669787207876608\n",
      "Error in 1063669790483480577\n",
      "Error in 1063669796120813568\n",
      "Error in 1063669866564149248\n",
      "Error in 1063669874101125120\n",
      "Error in 1063669892619022336\n",
      "Error in 1063669979306958848\n",
      "Error in 1063670024961961984\n",
      "Error in 1063670043743907840\n",
      "Error in 1063670184680939521\n",
      "Error in 1063670268055441409\n",
      "Error in 1063670278377607168\n",
      "Error in 1063670279593971714\n",
      "Error in 1063670286942261248\n",
      "Error in 1063670294018019328\n",
      "Error in 1063670301781716992\n",
      "Error in 1063670308241096705\n",
      "Error in 1063670315375570944\n",
      "Error in 1063670365241655298\n",
      "Error in 1063670449081671681\n",
      "Error in 1063670490206793729\n",
      "Error in 1063670563816783872\n",
      "Error in 1063670575564869635\n"
     ]
    },
    {
     "name": "stderr",
     "output_type": "stream",
     "text": [
      "Rate limit reached. Sleeping for: 736\n"
     ]
    },
    {
     "name": "stdout",
     "output_type": "stream",
     "text": [
      "Error in 1063670630199881729\n",
      "Error in 1063670652605886464\n",
      "Error in 1063670672948453377\n",
      "Error in 1063670673841647616\n",
      "Error in 1063670696855822337\n",
      "Error in 1063670714996310016\n",
      "Error in 1063670717215109120\n",
      "Error in 1063670733577101312\n",
      "Error in 1063670735548424192\n",
      "Error in 1063670738270474241\n",
      "Error in 1063670740111650816\n",
      "Error in 1063670767580311552\n",
      "Error in 1063670772277891072\n",
      "Error in 1063670815076638720\n",
      "Error in 1063670851067772928\n",
      "Error in 1063670927764922369\n",
      "Error in 1063670928435896320\n",
      "Error in 1063670943648792576\n",
      "Error in 1063670947910168576\n",
      "Error in 1063670949470334978\n",
      "Error in 1063670956433002496\n",
      "Error in 1063671013668462592\n",
      "Error in 1063671018680696832\n",
      "Error in 1063671028541521920\n",
      "Error in 1063671036137357312\n",
      "Error in 1063671037211172864\n",
      "Error in 1063671097638428672\n",
      "Error in 1063671104189984770\n",
      "Error in 1063671112771481600\n",
      "Error in 1063671115241934849\n",
      "Error in 1063671123462762496\n",
      "Error in 1063671128131072005\n",
      "Error in 1063671168987615232\n",
      "Error in 1063671169994252288\n",
      "Error in 1063671215158636544\n",
      "Error in 1063671231621279744\n",
      "Error in 1063671246578245632\n",
      "Error in 1063671251850399744\n",
      "Error in 1063671283446095872\n",
      "Error in 1063671284117184512\n",
      "Error in 1063671310323081216\n",
      "Error in 1063671387074846721\n",
      "Error in 1063671460932157440\n",
      "Error in 1063671470507872257\n",
      "Error in 1063671477180891136\n",
      "Error in 1063671504670359552\n",
      "Error in 1063671511674961925\n",
      "Error in 1063671527701245952\n",
      "Error in 1063671528552833024\n"
     ]
    },
    {
     "name": "stderr",
     "output_type": "stream",
     "text": [
      "Rate limit reached. Sleeping for: 724\n"
     ]
    },
    {
     "name": "stdout",
     "output_type": "stream",
     "text": [
      "Error in 1063671588401360896\n",
      "Error in 1063671673046556674\n",
      "Error in 1063671677454872576\n",
      "Error in 1063671721230778369\n",
      "Error in 1063671762540355584\n",
      "Error in 1063671846888005634\n",
      "Error in 1063671871919587329\n",
      "Error in 1063671876902363136\n",
      "Error in 1063671895046987777\n",
      "Error in 1063671971014164480\n",
      "Error in 1063671976995082241\n",
      "Error in 1063671994170785793\n",
      "Error in 1063672023677919232\n",
      "Error in 1063672058977165318\n",
      "Error in 1063672089033494528\n",
      "Error in 1063672273759027200\n",
      "Error in 1063672303110770688\n",
      "Error in 1063672335733903360\n",
      "Error in 1063672386262917121\n",
      "Error in 1063672393988694016\n",
      "Error in 1063672442651140096\n",
      "Error in 1063672452880961536\n",
      "Error in 1063672480546484224\n",
      "Error in 1063672516219158528\n",
      "Error in 1063672520451084288\n"
     ]
    },
    {
     "name": "stderr",
     "output_type": "stream",
     "text": [
      "Rate limit reached. Sleeping for: 695\n"
     ]
    },
    {
     "name": "stdout",
     "output_type": "stream",
     "text": [
      "Error in 1063672545931550722\n",
      "Error in 1063672591565635584\n",
      "Error in 1063672612155547648\n",
      "Error in 1063672675070066689\n",
      "Error in 1063672692702769152\n",
      "Error in 1063672732125138944\n",
      "Error in 1063672746138353664\n",
      "Error in 1063672745970540545\n",
      "Error in 1063672761619488768\n",
      "Error in 1063672789062832128\n",
      "Error in 1063672800605540352\n",
      "Error in 1063672805529669632\n",
      "Error in 1063672829743251456\n",
      "Error in 1063672829789450240\n",
      "Error in 1063672851239239680\n",
      "Error in 1063672893241024513\n",
      "Error in 1063672971259244544\n",
      "Error in 1063672975126347776\n",
      "Error in 1063673004947836929\n",
      "Error in 1063673015697907712\n",
      "Error in 1063673031032107008\n",
      "Error in 1063673053157171200\n",
      "Error in 1063673076121067520\n",
      "Error in 1063673099185471488\n",
      "Error in 1063673158446825473\n",
      "Error in 1063673218404249601\n",
      "Error in 1063673227963129856\n",
      "Error in 1063673283386597376\n",
      "Error in 1063673299547447297\n",
      "Error in 1063673339883843584\n",
      "Error in 1063673370317864961\n",
      "Error in 1063673418346713088\n",
      "Error in 1063673459543166976\n"
     ]
    },
    {
     "name": "stderr",
     "output_type": "stream",
     "text": [
      "Rate limit reached. Sleeping for: 572\n"
     ]
    },
    {
     "name": "stdout",
     "output_type": "stream",
     "text": [
      "Error in 1063673547174883328\n",
      "Error in 1063673549104263168\n",
      "Error in 1063673579395411968\n",
      "Error in 1063673620738830336\n",
      "Error in 1063673653445877762\n",
      "Error in 1063673679983333376\n",
      "Error in 1063673732919521280\n",
      "Error in 1063673782378930177\n",
      "Error in 1063673823185289217\n",
      "Error in 1063673828793044992\n",
      "Error in 1063673884669399040\n",
      "Error in 1063673960670334976\n",
      "Error in 1063674037719769088\n",
      "Error in 1063674057332154368\n",
      "Error in 1063674062763950080\n",
      "Error in 1063674079545241600\n",
      "Error in 1063674099254194183\n",
      "Error in 1063674202245554176\n",
      "Error in 1063674211250532352\n",
      "Error in 1063674219131629568\n",
      "Error in 1063674220880646144\n",
      "Error in 1063674243701854208\n",
      "Error in 1063674244398309376\n",
      "Error in 1063674251641794561\n",
      "Error in 1063674276367220736\n",
      "Error in 1063674277382082560\n",
      "Error in 1063674285930082306\n",
      "Error in 1063674317311864833\n",
      "Error in 1063674323070664704\n",
      "Error in 1063674325763543045\n",
      "Error in 1063674339227258880\n",
      "Error in 1063674375696613376\n",
      "Error in 1063674397381271553\n",
      "Error in 1063674414569582595\n",
      "Error in 1063674425755779073\n",
      "Error in 1063674429035634689\n",
      "Error in 1063674463051485184\n",
      "Error in 1063674467300319232\n",
      "Error in 1063674517401288704\n",
      "Error in 1063674522405093376\n",
      "Error in 1063674530185404416\n"
     ]
    },
    {
     "name": "stderr",
     "output_type": "stream",
     "text": [
      "Rate limit reached. Sleeping for: 737\n"
     ]
    },
    {
     "name": "stdout",
     "output_type": "stream",
     "text": [
      "Error in 1063674615891783680\n",
      "Error in 1063674669495083013\n",
      "Error in 1063674735215529989\n",
      "Error in 1063674752496218112\n",
      "Error in 1063674759999819776\n",
      "Error in 1063674841474060289\n",
      "Error in 1063674879730429952\n",
      "Error in 1063674892888014849\n",
      "Error in 1063674898374160384\n",
      "Error in 1063674907995881472\n",
      "Error in 1063674912408260608\n",
      "Error in 1063674936307474432\n",
      "Error in 1063675079723225088\n",
      "Error in 1063675147004100608\n",
      "Error in 1063675203408916480\n",
      "Error in 1063675269511372800\n",
      "Error in 1063675271268769792\n",
      "Error in 1063675289832747009\n",
      "Error in 1063675381562130433\n",
      "Error in 1063675395399081984\n",
      "Error in 1063675407805882368\n",
      "Error in 1063675417381560320\n",
      "Error in 1063675428227948546\n",
      "Error in 1063675509169627136\n",
      "Error in 1063675561741090821\n",
      "Error in 1063675566581198848\n",
      "Error in 1063675577943580673\n"
     ]
    },
    {
     "name": "stderr",
     "output_type": "stream",
     "text": [
      "Rate limit reached. Sleeping for: 738\n"
     ]
    },
    {
     "name": "stdout",
     "output_type": "stream",
     "text": [
      "Error in 1063675592925741061\n",
      "Error in 1063675610965397509\n",
      "Error in 1063675642594713600\n",
      "Error in 1063675643005673474\n",
      "Error in 1063675742326800385\n",
      "Error in 1063675746969882624\n",
      "Error in 1063675752787394560\n",
      "Error in 1063675772701949952\n",
      "Error in 1063675803567882240\n",
      "Error in 1063675817610358786\n",
      "Error in 1063675827085205505\n",
      "Error in 1063675862149709825\n",
      "Error in 1063675952985751552\n",
      "Error in 1063675959314771968\n",
      "Error in 1063675981058068480\n",
      "Error in 1063675996770062337\n",
      "Error in 1063676011907289088\n",
      "Error in 1063676013056532481\n",
      "Error in 1063676026323128320\n",
      "Error in 1063676051606257665\n",
      "Error in 1063676078735142912\n",
      "Error in 1063676090747637760\n",
      "Error in 1063676137652408321\n",
      "Error in 1063676174788771840\n",
      "Error in 1063676177108398081\n",
      "Error in 1063676181701046272\n",
      "Error in 1063676188663500801\n",
      "Error in 1063676203037614080\n",
      "Error in 1063676217646301185\n",
      "Error in 1063676226248851457\n",
      "Error in 1063676228278857728\n",
      "Error in 1063676231659339776\n",
      "Error in 1063676350119231493\n",
      "Error in 1063676384709492739\n",
      "Error in 1063676399746052096\n",
      "Error in 1063676423334842370\n",
      "Error in 1063676425230790656\n",
      "Error in 1063676528612044801\n",
      "Error in 1063676556789329920\n",
      "Error in 1063676631284207616\n",
      "Error in 1063676631364050944\n",
      "Error in 1063676639459139584\n",
      "Error in 1063676665321029632\n",
      "Error in 1063676742273908736\n",
      "Error in 1063676757448941570\n"
     ]
    },
    {
     "name": "stderr",
     "output_type": "stream",
     "text": [
      "Rate limit reached. Sleeping for: 708\n"
     ]
    },
    {
     "name": "stdout",
     "output_type": "stream",
     "text": [
      "Error in 1063676773328662529\n",
      "Error in 1063676777292357635\n",
      "Error in 1063676782891565056\n",
      "Error in 1063676789485006848\n",
      "Error in 1063676805771599873\n",
      "Error in 1063676854966595584\n",
      "Error in 1063676865653678086\n",
      "Error in 1063676899606609920\n",
      "Error in 1063676976509198336\n",
      "Error in 1063676996708913152\n",
      "Error in 1063677005621805057\n",
      "Error in 1063677007970607105\n",
      "Error in 1063677023271305216\n",
      "Error in 1063677050479935488\n",
      "Error in 1063677052967182336\n",
      "Error in 1063677058323075072\n",
      "Error in 1063677212971450368\n",
      "Error in 1063677229035646976\n",
      "Error in 1063677255107325952\n",
      "Error in 1063677261172289537\n",
      "Error in 1063677294605205504\n",
      "Error in 1063677357393764352\n",
      "Error in 1063677432992022528\n",
      "Error in 1063677492052021248\n",
      "Error in 1063677545793683457\n",
      "Error in 1063677624126324737\n",
      "Error in 1063677641813884928\n",
      "Error in 1063677643642421248\n",
      "Error in 1063677665851277314\n",
      "Error in 1063677691428331521\n",
      "Error in 1063677713360216065\n",
      "Error in 1063677727629369345\n",
      "Error in 1063677752174366720\n",
      "Error in 1063677762018426880\n",
      "Error in 1063677889936207872\n",
      "Error in 1063677894684233728\n",
      "Error in 1063677914179403781\n",
      "Error in 1063677923268468737\n",
      "Error in 1063677931547955200\n",
      "Error in 1063678004482768896\n",
      "Error in 1063678008521838592\n"
     ]
    },
    {
     "name": "stderr",
     "output_type": "stream",
     "text": [
      "Rate limit reached. Sleeping for: 686\n"
     ]
    },
    {
     "name": "stdout",
     "output_type": "stream",
     "text": [
      "Error in 1063678052780187648\n",
      "Error in 1063678091363414016\n",
      "Error in 1063678092902887424\n",
      "Error in 1063678202302865408\n",
      "Error in 1063678202873286656\n",
      "Error in 1063678249866313728\n",
      "Error in 1063678267842998275\n",
      "Error in 1063678304052363265\n",
      "Error in 1063678316937428992\n",
      "Error in 1063678352114933761\n",
      "Error in 1063678364832157697\n",
      "Error in 1063678394527870977\n",
      "Error in 1063678431844544512\n",
      "Error in 1063678466199941121\n",
      "Error in 1063678510605238272\n",
      "Error in 1063678537566052352\n",
      "Error in 1063678598471712768\n",
      "Error in 1063678640582463488\n",
      "Error in 1063678669044899841\n",
      "Error in 1063678679207809029\n",
      "Error in 1063678681309241347\n",
      "Error in 1063678687495811072\n",
      "Error in 1063678722551762944\n",
      "Error in 1063678763152609280\n",
      "Error in 1063678779418042368\n",
      "Error in 1063678788867903488\n",
      "Error in 1063678801052356608\n",
      "Error in 1063678835491786752\n",
      "Error in 1063678900230746113\n",
      "Error in 1063678927363850240\n",
      "Error in 1063678971546615809\n",
      "Error in 1063678989796028416\n",
      "Error in 1063679032825430016\n",
      "Error in 1063679045978583040\n",
      "Error in 1063679050416308224\n",
      "Error in 1063679052731613184\n",
      "Error in 1063679066425966592\n",
      "Error in 1063679160936275969\n",
      "Error in 1063679169559756800\n"
     ]
    },
    {
     "name": "stderr",
     "output_type": "stream",
     "text": [
      "Rate limit reached. Sleeping for: 623\n"
     ]
    },
    {
     "name": "stdout",
     "output_type": "stream",
     "text": [
      "Error in 1063679223330734080\n",
      "Error in 1063679278917853187\n",
      "Error in 1063679298660261888\n",
      "Error in 1063679302007496704\n",
      "Error in 1063679349600047104\n",
      "Error in 1063679352632565760\n",
      "Error in 1063679415631044608\n",
      "Error in 1063679436212633600\n",
      "Error in 1063679448715808768\n",
      "Error in 1063679466545668097\n",
      "Error in 1063679469456629761\n",
      "Error in 1063679531830005762\n",
      "Error in 1063679560208850945\n",
      "Error in 1063679606316773376\n",
      "Error in 1063679655163715584\n",
      "Error in 1063679662042345472\n",
      "Error in 1063679662776303616\n",
      "Error in 1063679700575219712\n",
      "Error in 1063679723019141121\n",
      "Error in 1063679745446084608\n",
      "Error in 1063679886320115712\n",
      "Error in 1063680031388508160\n",
      "Error in 1063680177442615301\n",
      "Error in 1063680218773299200\n",
      "Error in 1063680229602979840\n",
      "Error in 1063680244123648000\n",
      "Error in 1063680287673131009\n",
      "Error in 1063680316945195008\n",
      "Error in 1063680336280907776\n",
      "Error in 1063680390936842240\n"
     ]
    },
    {
     "name": "stderr",
     "output_type": "stream",
     "text": [
      "Rate limit reached. Sleeping for: 667\n"
     ]
    },
    {
     "name": "stdout",
     "output_type": "stream",
     "text": [
      "Error in 1063680449690644480\n",
      "Error in 1063680486499909632\n",
      "Error in 1063680499946872837\n",
      "Error in 1063680605727195137\n",
      "Error in 1063680613822144512\n",
      "Error in 1063680628443500544\n",
      "Error in 1063680668624801792\n",
      "Error in 1063680681644081154\n",
      "Error in 1063680685574156288\n",
      "Error in 1063680711603843072\n",
      "Error in 1063680732558708736\n",
      "Error in 1063680754297786368\n",
      "Error in 1063680789999702016\n",
      "Error in 1063680808592916480\n",
      "Error in 1063680859079917568\n",
      "Error in 1063680871817981952\n",
      "Error in 1063680906857259009\n",
      "Error in 1063680929993027584\n",
      "Error in 1063680941095178240\n",
      "Error in 1063681047634669568\n",
      "Error in 1063681052332281856\n",
      "Error in 1063681055943811072\n",
      "Error in 1063681083689062401\n",
      "Error in 1063681135488552960\n",
      "Error in 1063681137111953409\n",
      "Error in 1063681138756079622\n",
      "Error in 1063681160956436481\n",
      "Error in 1063681182787952640\n",
      "Error in 1063681195286949888\n",
      "Error in 1063681197535100928\n",
      "Error in 1063681211124592640\n",
      "Error in 1063681211074174976\n",
      "Error in 1063681249695416321\n",
      "Error in 1063681253654724608\n",
      "Error in 1063681293567713280\n",
      "Error in 1063681434299367424\n",
      "Error in 1063681457317732352\n",
      "Error in 1063681474669490176\n",
      "Error in 1063681477366272001\n",
      "Error in 1063681540717187073\n",
      "Error in 1063681562934476800\n",
      "Error in 1063681577358643200\n",
      "Error in 1063681592743337984\n"
     ]
    },
    {
     "name": "stderr",
     "output_type": "stream",
     "text": [
      "Rate limit reached. Sleeping for: 738\n"
     ]
    },
    {
     "name": "stdout",
     "output_type": "stream",
     "text": [
      "Error in 1063681645876793346\n",
      "Error in 1063681646178775040\n",
      "Error in 1063681676394602496\n",
      "Error in 1063681697294630914\n",
      "Error in 1063681706568400896\n",
      "Error in 1063681940996407296\n",
      "Error in 1063681960726446080\n",
      "Error in 1063682067408580610\n",
      "Error in 1063682151772811264\n",
      "Error in 1063682153223991296\n",
      "Error in 1063682287924101120\n",
      "Error in 1063682314436296704\n",
      "Error in 1063682315824488453\n",
      "Error in 1063682372875575301\n",
      "Error in 1063682396581765120\n",
      "Error in 1063682473853374464\n",
      "Error in 1063682487463735296\n",
      "Error in 1063682503372750848\n",
      "Error in 1063682506900340736\n",
      "Error in 1063682518405316608\n",
      "Error in 1063682534024859649\n",
      "Error in 1063682563779297281\n",
      "Error in 1063682616581390337\n",
      "Error in 1063682648999190528\n",
      "Error in 1063682663721197569\n",
      "Error in 1063682666569056256\n",
      "Error in 1063682669685481473\n",
      "Error in 1063682697036484608\n",
      "Error in 1063682807627698177\n",
      "Error in 1063682816053960704\n",
      "Error in 1063682830524456961\n"
     ]
    },
    {
     "name": "stderr",
     "output_type": "stream",
     "text": [
      "Rate limit reached. Sleeping for: 741\n"
     ]
    },
    {
     "name": "stdout",
     "output_type": "stream",
     "text": [
      "Error in 1063682932127215616\n",
      "Error in 1063682947834798080\n",
      "Error in 1063683023357521920\n",
      "Error in 1063683051782266880\n",
      "Error in 1063683145013370880\n",
      "Error in 1063683194103451648\n",
      "Error in 1063683248570712064\n",
      "Error in 1063683258477625344\n",
      "Error in 1063683291314880513\n",
      "Error in 1063683338517458946\n",
      "Error in 1063683383484538880\n",
      "Error in 1063683388807229440\n",
      "Error in 1063683432302211073\n",
      "Error in 1063683467744079873\n",
      "Error in 1063683473280516097\n",
      "Error in 1063683486769446913\n",
      "Error in 1063683599986245633\n",
      "Error in 1063683609683550208\n",
      "Error in 1063683616209694720\n",
      "Error in 1063683696702775296\n",
      "Error in 1063683714570469376\n",
      "Error in 1063683765803917313\n",
      "Error in 1063683801891581953\n",
      "Error in 1063683876491382785\n",
      "Error in 1063683887782612992\n",
      "Error in 1063683966438391808\n",
      "Error in 1063683971693899776\n",
      "Error in 1063684056876019712\n",
      "Error in 1063684104024055808\n",
      "Error in 1063684114887274497\n",
      "Error in 1063684131274584064\n"
     ]
    },
    {
     "name": "stderr",
     "output_type": "stream",
     "text": [
      "Rate limit reached. Sleeping for: 743\n"
     ]
    },
    {
     "name": "stdout",
     "output_type": "stream",
     "text": [
      "Error in 1063684227886022656\n",
      "Error in 1063684241484128256\n",
      "Error in 1063684250875109376\n",
      "Error in 1063684398996951040\n",
      "Error in 1063684393242411008\n",
      "Error in 1063684408530649089\n",
      "Error in 1063684459973787648\n",
      "Error in 1063684461093634048\n",
      "Error in 1063684469079437313\n",
      "Error in 1063684470027489280\n",
      "Error in 1063684546342854656\n",
      "Error in 1063684560242671616\n",
      "Error in 1063684642044370944\n",
      "Error in 1063684643856117760\n",
      "Error in 1063684666891227136\n",
      "Error in 1063684698281570304\n",
      "Error in 1063684711221010433\n",
      "Error in 1063684743139598336\n",
      "Error in 1063684860605288448\n",
      "Error in 1063684881887023104\n",
      "Error in 1063684892259770368\n",
      "Error in 1063684924073496577\n",
      "Error in 1063684924413140993\n",
      "Error in 1063684929144397824\n",
      "Error in 1063684951915270144\n",
      "Error in 1063684985901727749\n",
      "Error in 1063684989785649152\n",
      "Error in 1063685051345510401\n",
      "Error in 1063685071817883649\n",
      "Error in 1063685103384182785\n",
      "Error in 1063685117988634624\n",
      "Error in 1063685256082059264\n",
      "Error in 1063685314781298688\n",
      "Error in 1063685317595664386\n",
      "Error in 1063685328781942784\n",
      "Error in 1063685470230433792\n",
      "Error in 1063685513553592320\n",
      "Error in 1063685557627305984\n"
     ]
    },
    {
     "name": "stderr",
     "output_type": "stream",
     "text": [
      "Rate limit reached. Sleeping for: 725\n"
     ]
    },
    {
     "name": "stdout",
     "output_type": "stream",
     "text": [
      "Error in 1063685610928402433\n",
      "Error in 1063685673188802560\n",
      "Error in 1063685685427740672\n",
      "Error in 1063685691228504065\n",
      "Error in 1063685727203020800\n",
      "Error in 1063685751068475392\n",
      "Error in 1063685759054561280\n",
      "Error in 1063685797604458496\n",
      "Error in 1063686008267395075\n",
      "Error in 1063686039519326208\n",
      "Error in 1063686064718499841\n",
      "Error in 1063686067939934208\n",
      "Error in 1063686096545071104\n",
      "Error in 1063686217248706560\n",
      "Error in 1063686245048553473\n",
      "Error in 1063686252438859778\n",
      "Error in 1063686299801014272\n",
      "Error in 1063686310215516162\n",
      "Error in 1063686324304166912\n",
      "Error in 1063686365710245888\n",
      "Error in 1063686401399681024\n",
      "Error in 1063686479807987712\n",
      "Error in 1063686501907615744\n",
      "Error in 1063686522556170240\n",
      "Error in 1063686562540646400\n",
      "Error in 1063686655100444672\n",
      "Error in 1063686703838199808\n",
      "Error in 1063686705641865217\n",
      "Error in 1063686785140760576\n",
      "Error in 1063686832699904000\n",
      "Error in 1063686873883832320\n",
      "Error in 1063686958591832064\n",
      "Error in 1063686999285084160\n"
     ]
    },
    {
     "name": "stderr",
     "output_type": "stream",
     "text": [
      "Rate limit reached. Sleeping for: 729\n"
     ]
    },
    {
     "name": "stdout",
     "output_type": "stream",
     "text": [
      "Error in 1063687033636483072\n",
      "Error in 1063687090205016064\n",
      "Error in 1063687152125571072\n",
      "Error in 1063687186573418496\n",
      "Error in 1063687221675524096\n",
      "Error in 1063687223877488642\n",
      "Error in 1063687297705623552\n",
      "Error in 1063687325190930432\n",
      "Error in 1063687350453030912\n",
      "Error in 1063687351770083329\n",
      "Error in 1063687440102129664\n",
      "Error in 1063687455012925441\n",
      "Error in 1063687512630198273\n",
      "Error in 1063687566682193920\n",
      "Error in 1063687600962240517\n",
      "Error in 1063687614778286085\n",
      "Error in 1063687667353833472\n",
      "Error in 1063687688195321856\n",
      "Error in 1063687688711065600\n",
      "Error in 1063687733120458752\n",
      "Error in 1063687763323703297\n",
      "Error in 1063687778557321216\n",
      "Error in 1063687805367279616\n",
      "Error in 1063687837126602752\n",
      "Error in 1063687854642085888\n",
      "Error in 1063687867434762241\n",
      "Error in 1063687868831473664\n",
      "Error in 1063687901303791616\n",
      "Error in 1063687949781516288\n",
      "Error in 1063688022401654785\n",
      "Error in 1063688045168377857\n",
      "Error in 1063688200550522880\n",
      "Error in 1063688259052728320\n",
      "Error in 1063688307916357632\n",
      "Error in 1063688318280441856\n",
      "Error in 1063688350564003841\n"
     ]
    },
    {
     "name": "stderr",
     "output_type": "stream",
     "text": [
      "Rate limit reached. Sleeping for: 725\n"
     ]
    },
    {
     "name": "stdout",
     "output_type": "stream",
     "text": [
      "Error in 1063688526838009856\n",
      "Error in 1063688561835368448\n",
      "Error in 1063688737849171968\n",
      "Error in 1063688776109551616\n",
      "Error in 1063688866916327425\n",
      "Error in 1063688876945039360\n",
      "Error in 1063688938273988608\n",
      "Error in 1063688993890582530\n",
      "Error in 1063689025729441793\n",
      "Error in 1063689211595771904\n",
      "Error in 1063689216595357697\n",
      "Error in 1063689270291062786\n",
      "Error in 1063689306428989440\n",
      "Error in 1063689368777314304\n",
      "Error in 1063689406396203008\n",
      "Error in 1063689418635177985\n",
      "Error in 1063689430576308224\n",
      "Error in 1063689509085138944\n",
      "Error in 1063689511102816256\n",
      "Error in 1063689547710648320\n",
      "Error in 1063689614756651008\n",
      "Error in 1063689639922409475\n",
      "Error in 1063689643328196610\n",
      "Error in 1063689651725119489\n",
      "Error in 1063689660831096832\n",
      "Error in 1063689671803314176\n",
      "Error in 1063689689746587648\n",
      "Error in 1063689724064198661\n",
      "Error in 1063689748248694784\n",
      "Error in 1063689757132247040\n",
      "Error in 1063689802703351813\n",
      "Error in 1063689818620743680\n",
      "Error in 1063689869925453824\n",
      "Error in 1063689872806801408\n"
     ]
    },
    {
     "name": "stderr",
     "output_type": "stream",
     "text": [
      "Rate limit reached. Sleeping for: 733\n"
     ]
    },
    {
     "name": "stdout",
     "output_type": "stream",
     "text": [
      "Error in 1063689936031895552\n",
      "Error in 1063689956693090304\n",
      "Error in 1063690166651498496\n",
      "Error in 1063690172187971584\n",
      "Error in 1063690217520066560\n",
      "Error in 1063690220011315205\n",
      "Error in 1063690250134925312\n",
      "Error in 1063690338567577601\n",
      "Error in 1063690350131326977\n",
      "Error in 1063690351993597953\n",
      "Error in 1063690365704855557\n",
      "Error in 1063690384256262145\n",
      "Error in 1063690426375393281\n",
      "Error in 1063690547167195136\n",
      "Error in 1063690561062760448\n",
      "Error in 1063690585465208833\n",
      "Error in 1063690587667337216\n",
      "Error in 1063690617958662145\n",
      "Error in 1063690667421949952\n",
      "Error in 1063690736615522305\n",
      "Error in 1063690799194537984\n",
      "Error in 1063690865502298113\n",
      "Error in 1063690993545953280\n",
      "Error in 1063691055713914880\n",
      "Error in 1063691189457629184\n",
      "Error in 1063691194214035456\n",
      "Error in 1063691244168073216\n",
      "Error in 1063691246114344960\n",
      "Error in 1063691284223676416\n",
      "Error in 1063691345833877504\n",
      "Error in 1063691381967749120\n"
     ]
    },
    {
     "name": "stderr",
     "output_type": "stream",
     "text": [
      "Rate limit reached. Sleeping for: 720\n"
     ]
    },
    {
     "name": "stdout",
     "output_type": "stream",
     "text": [
      "Error in 1063691408505221120\n",
      "Error in 1063691413156757504\n",
      "Error in 1063691435789176832\n",
      "Error in 1063691459461734400\n",
      "Error in 1063691474016108544\n",
      "Error in 1063691474607501312\n",
      "Error in 1063691521130618880\n",
      "Error in 1063691528604958720\n",
      "Error in 1063691555540742144\n",
      "Error in 1063691581012746240\n",
      "Error in 1063691585739784192\n",
      "Error in 1063691602604941313\n",
      "Error in 1063691701917671425\n",
      "Error in 1063691712479092737\n",
      "Error in 1063691729759600640\n",
      "Error in 1063691779285950469\n",
      "Error in 1063691780061913089\n",
      "Error in 1063691783362830336\n",
      "Error in 1063691810525126656\n",
      "Error in 1063691827772092416\n",
      "Error in 1063691881589043201\n",
      "Error in 1063691910446047234\n",
      "Error in 1063691960530202629\n",
      "Error in 1063691986161606656\n",
      "Error in 1063691996873846784\n",
      "Error in 1063692000766148608\n",
      "Error in 1063692030134681602\n",
      "Error in 1063692037503901696\n",
      "Error in 1063692042935635968\n",
      "Error in 1063692058580275201\n",
      "Error in 1063692064993542144\n",
      "Error in 1063692076863361024\n",
      "Error in 1063692084555784192\n",
      "Error in 1063692113949409281\n",
      "Error in 1063692172849901568\n",
      "Error in 1063692205133488130\n",
      "Error in 1063692228177117184\n",
      "Error in 1063692325044375553\n",
      "Error in 1063692359291023361\n",
      "Error in 1063692400156008448\n",
      "Error in 1063692442442952704\n",
      "Error in 1063692544234663936\n",
      "Error in 1063692565852102656\n",
      "Error in 1063692593576505349\n",
      "Error in 1063692668000247808\n",
      "Error in 1063692685842759680\n",
      "Error in 1063692740968546304\n",
      "Error in 1063692867384877056\n"
     ]
    },
    {
     "name": "stderr",
     "output_type": "stream",
     "text": [
      "Rate limit reached. Sleeping for: 736\n"
     ]
    },
    {
     "name": "stdout",
     "output_type": "stream",
     "text": [
      "Error in 1063692919717208065\n",
      "Error in 1063692932383817729\n",
      "Error in 1063692939182755841\n",
      "Error in 1063692973739634688\n",
      "Error in 1063693000583323650\n",
      "Error in 1063693006946091008\n",
      "Error in 1063693073622990848\n",
      "Error in 1063693085744365570\n",
      "Error in 1063693116744585217\n",
      "Error in 1063693149195792384\n",
      "Error in 1063693156976254976\n",
      "Error in 1063693185405333504\n",
      "Error in 1063693396190085120\n",
      "Error in 1063693444843884545\n",
      "Error in 1063693557700153344\n",
      "Error in 1063693577958625281\n",
      "Error in 1063693665460047872\n",
      "Error in 1063693813221347328\n",
      "Error in 1063693828362780672\n",
      "Error in 1063694106730397696\n",
      "Error in 1063694185188986880\n",
      "Error in 1063694236095266816\n",
      "Error in 1063694284052807680\n",
      "Error in 1063694346447437824\n",
      "Error in 1063694353422528512\n",
      "Error in 1063694365208395776\n",
      "Error in 1063694372158533632\n"
     ]
    },
    {
     "name": "stderr",
     "output_type": "stream",
     "text": [
      "Rate limit reached. Sleeping for: 728\n"
     ]
    },
    {
     "name": "stdout",
     "output_type": "stream",
     "text": [
      "Error in 1063694439896530944\n",
      "Error in 1063694482305163265\n",
      "Error in 1063694508020256768\n",
      "Error in 1063694556514926592\n",
      "Error in 1063694704406159360\n",
      "Error in 1063694724769488896\n",
      "Error in 1063694779077283840\n",
      "Error in 1063694882512891904\n",
      "Error in 1063694895410483205\n",
      "Error in 1063695045587390464\n",
      "Error in 1063695091053854720\n",
      "Error in 1063695140211097600\n",
      "Error in 1063695143398600704\n",
      "Error in 1063695271895474176\n",
      "Error in 1063695387435905024\n",
      "Error in 1063695414568865792\n",
      "Error in 1063695428720443392\n",
      "Error in 1063695444449071104\n",
      "Error in 1063695565857456128\n",
      "Error in 1063695588804476928\n",
      "Error in 1063695744249532416\n",
      "Error in 1063695763396534273\n",
      "Error in 1063695825291759616\n",
      "Error in 1063695848373133312\n",
      "Error in 1063695864210825218\n",
      "Error in 1063695876110106624\n",
      "Error in 1063695930287828992\n",
      "Error in 1063695991877107712\n",
      "Error in 1063695996906102784\n"
     ]
    },
    {
     "name": "stderr",
     "output_type": "stream",
     "text": [
      "Rate limit reached. Sleeping for: 716\n"
     ]
    },
    {
     "name": "stdout",
     "output_type": "stream",
     "text": [
      "Error in 1063696028627595264\n",
      "Error in 1063696061976457218\n",
      "Error in 1063696113453158400\n",
      "Error in 1063696121703219200\n",
      "Error in 1063696167689695232\n",
      "Error in 1063696223008419840\n",
      "Error in 1063696261495382016\n",
      "Error in 1063696265379233792\n",
      "Error in 1063696280373944320\n",
      "Error in 1063696403254398977\n",
      "Error in 1063696406471274496\n",
      "Error in 1063696431809159168\n",
      "Error in 1063696545067855872\n",
      "Error in 1063696550336098305\n",
      "Error in 1063696635400781825\n",
      "Error in 1063696652916203521\n",
      "Error in 1063696833543720960\n",
      "Error in 1063696835708096512\n",
      "Error in 1063697055820980226\n",
      "Error in 1063697062024294400\n",
      "Error in 1063697131981037568\n",
      "Error in 1063697155376836608\n",
      "Error in 1063697231453270016\n",
      "Error in 1063697286373535744\n",
      "Error in 1063697326152273922\n",
      "Error in 1063697332506636288\n",
      "Error in 1063697332531810304\n",
      "Error in 1063697359958241284\n",
      "Error in 1063697363477262336\n",
      "Error in 1063697372591603712\n",
      "Error in 1063697409794957312\n",
      "Error in 1063697410797359104\n",
      "Error in 1063697415495196672\n",
      "Error in 1063697431685156864\n",
      "Error in 1063697446558146560\n",
      "Error in 1063697458700652545\n",
      "Error in 1063697507493060608\n",
      "Error in 1063697528607014912\n",
      "Error in 1063697573146447872\n",
      "Error in 1063697616528121857\n",
      "Error in 1063697626758029312\n",
      "Error in 1063697662505975813\n",
      "Error in 1063697670819233792\n",
      "Error in 1063697684819783680\n",
      "Error in 1063697723478736896\n",
      "Error in 1063697731607298048\n",
      "Error in 1063697739706335232\n",
      "Error in 1063697763735662592\n",
      "Error in 1063697766281609217\n"
     ]
    },
    {
     "name": "stderr",
     "output_type": "stream",
     "text": [
      "Rate limit reached. Sleeping for: 602\n"
     ]
    },
    {
     "name": "stdout",
     "output_type": "stream",
     "text": [
      "Error in 1063697802591641601\n",
      "Error in 1063697805565415424\n",
      "Error in 1063697805884227584\n",
      "Error in 1063697860577751041\n",
      "Error in 1063697880219885568\n",
      "Error in 1063697909315563520\n",
      "Error in 1063697967272611840\n",
      "Error in 1063698067726176256\n",
      "Error in 1063698079969361920\n",
      "Error in 1063698094813061121\n",
      "Error in 1063698248085303297\n",
      "Error in 1063698271988666373\n",
      "Error in 1063698275998593025\n",
      "Error in 1063698330113490944\n",
      "Error in 1063698358542393345\n",
      "Error in 1063698456114593792\n",
      "Error in 1063698504672034816\n",
      "Error in 1063698561018155011\n",
      "Error in 1063698599429627906\n",
      "Error in 1063698626109689857\n",
      "Error in 1063698680107098112\n",
      "Error in 1063698753947922432\n",
      "Error in 1063698834239369216\n",
      "Error in 1063698855684911105\n",
      "Error in 1063698924811235328\n",
      "Error in 1063698925578670080\n",
      "Error in 1063699009364156416\n",
      "Error in 1063699013399138304\n",
      "Error in 1063699060006313984\n",
      "Error in 1063699100917538817\n",
      "Error in 1063699128943816704\n",
      "Error in 1063699134786531328\n",
      "Error in 1063699190151294978\n",
      "Error in 1063699198653202438\n",
      "Error in 1063699258052931584\n",
      "Error in 1063699269536759808\n",
      "Error in 1063699281599590400\n",
      "Error in 1063699285643091968\n",
      "Error in 1063699321277698048\n",
      "Error in 1063699335714619392\n",
      "Error in 1063699360175857664\n",
      "Error in 1063699363116064768\n",
      "Error in 1063699385505042432\n",
      "Error in 1063699448293937152\n",
      "Error in 1063699473900191749\n",
      "Error in 1063699500567601152\n",
      "Error in 1063699635682910208\n",
      "Error in 1063699639990460416\n",
      "Error in 1063699674597605379\n"
     ]
    },
    {
     "name": "stderr",
     "output_type": "stream",
     "text": [
      "Rate limit reached. Sleeping for: 578\n"
     ]
    },
    {
     "name": "stdout",
     "output_type": "stream",
     "text": [
      "Error in 1063699694533136385\n",
      "Error in 1063699701680226304\n",
      "Error in 1063699807733084163\n",
      "Error in 1063699848162156544\n",
      "Error in 1063699915254235136\n",
      "Error in 1063699931523948544\n",
      "Error in 1063699947294470144\n",
      "Error in 1063699949160824834\n",
      "Error in 1063699973957660672\n",
      "Error in 1063700023140069376\n",
      "Error in 1063700036033232898\n",
      "Error in 1063700118019293184\n",
      "Error in 1063700130681868289\n",
      "Error in 1063700132607094784\n",
      "Error in 1063700133886464000\n",
      "Error in 1063700134394036226\n",
      "Error in 1063700134364618754\n",
      "Error in 1063700138659651584\n",
      "Error in 1063700147564101633\n",
      "Error in 1063700153910132737\n",
      "Error in 1063700170267901952\n",
      "Error in 1063700193756016640\n",
      "Error in 1063700265537277952\n",
      "Error in 1063700281911844864\n",
      "Error in 1063700354020208640\n",
      "Error in 1063700362673168384\n",
      "Error in 1063700424505454592\n",
      "Error in 1063700530591985664\n",
      "Error in 1063700604042833920\n",
      "Error in 1063700673773096961\n",
      "Error in 1063700705893146624\n",
      "Error in 1063700760632926214\n",
      "Error in 1063700786423586816\n",
      "Error in 1063700831827046401\n",
      "Error in 1063700833001385985\n",
      "Error in 1063700841570414593\n",
      "Error in 1063700842610679809\n",
      "Error in 1063700864613928961\n",
      "Error in 1063700894959718400\n",
      "Error in 1063700920440107009\n",
      "Error in 1063701010101747712\n",
      "Error in 1063701026258251776\n",
      "Error in 1063701050782306304\n",
      "Error in 1063701083451678721\n",
      "Error in 1063701165081276416\n",
      "Error in 1063701213051416576\n",
      "Error in 1063701223319236608\n",
      "Error in 1063701261369917440\n",
      "Error in 1063701277710970880\n",
      "Error in 1063701394086129664\n",
      "Error in 1063701408807931905\n",
      "Error in 1063701433206362113\n",
      "Error in 1063701440827482112\n",
      "Error in 1063701450017124352\n",
      "Error in 1063701491804860417\n",
      "Error in 1063701593416118273\n"
     ]
    },
    {
     "name": "stderr",
     "output_type": "stream",
     "text": [
      "Rate limit reached. Sleeping for: 7\n"
     ]
    },
    {
     "name": "stdout",
     "output_type": "stream",
     "text": [
      "Error in 1063701656871817216\n",
      "Error in 1063701664543068161\n",
      "Error in 1063701691697000448\n",
      "Error in 1063701693089619969\n",
      "Error in 1063701694037536770\n",
      "Error in 1063701704540135425\n",
      "Error in 1063701767211425792\n",
      "Error in 1063701877961895936\n",
      "Error in 1063701908806877184\n",
      "Error in 1063701915370905601\n",
      "Error in 1063701924195770368\n",
      "Error in 1063701945959870465\n",
      "Error in 1063701981397544960\n",
      "Error in 1063701981603065856\n",
      "Error in 1063702078642626561\n",
      "Error in 1063702099278602240\n",
      "Error in 1063702122930348033\n",
      "Error in 1063702190387314688\n",
      "Error in 1063702363309932544\n",
      "Error in 1063702393169174529\n",
      "Error in 1063702419878625281\n",
      "Error in 1063702449758728192\n",
      "Error in 1063702451293958144\n",
      "Error in 1063702509737279488\n",
      "Error in 1063702536257982469\n",
      "Error in 1063702556256411650\n",
      "Error in 1063702573629272066\n",
      "Error in 1063702605732425728\n",
      "Error in 1063702623029739521\n",
      "Error in 1063702624137031680\n",
      "Error in 1063702648019275776\n",
      "Error in 1063702673734529024\n",
      "Error in 1063702702901927937\n",
      "Error in 1063702764868448257\n",
      "Error in 1063702809307172864\n",
      "Error in 1063702819583094784\n",
      "Error in 1063702848159051776\n",
      "Error in 1063702848540676096\n",
      "Error in 1063702853267668992\n",
      "Error in 1063702886645817344\n",
      "Error in 1063703142905323520\n",
      "Error in 1063703145371574273\n",
      "Error in 1063703155089833984\n",
      "Error in 1063703164183085056\n",
      "Error in 1063703171627773953\n",
      "Error in 1063703176740663297\n",
      "Error in 1063703178158505984\n",
      "Error in 1063703244193652736\n",
      "Error in 1063703378465775617\n",
      "Error in 1063703405636608000\n",
      "Error in 1063703415077916673\n",
      "Error in 1063703420824109057\n",
      "Error in 1063703455758454788\n",
      "Error in 1063703462674919424\n",
      "Error in 1063703464306458629\n",
      "Error in 1063703465946480641\n",
      "Error in 1063703467875799040\n",
      "Error in 1063703468450430976\n",
      "Error in 1063703469478023170\n",
      "Error in 1063703470916714496\n",
      "Error in 1063703489858215936\n"
     ]
    },
    {
     "name": "stderr",
     "output_type": "stream",
     "text": [
      "Rate limit reached. Sleeping for: 337\n"
     ]
    },
    {
     "name": "stdout",
     "output_type": "stream",
     "text": [
      "Error in 1063703523236302848\n"
     ]
    },
    {
     "name": "stderr",
     "output_type": "stream",
     "text": [
      "Rate limit reached. Sleeping for: 270\n",
      "Rate limit reached. Sleeping for: 257\n"
     ]
    },
    {
     "name": "stdout",
     "output_type": "stream",
     "text": [
      "Error in 1063703523781599232\n"
     ]
    },
    {
     "name": "stderr",
     "output_type": "stream",
     "text": [
      "Rate limit reached. Sleeping for: 256\n"
     ]
    },
    {
     "name": "stdout",
     "output_type": "stream",
     "text": [
      "Error in 1063703524473782272\n",
      "Error in 1063703528852590592\n"
     ]
    },
    {
     "name": "stderr",
     "output_type": "stream",
     "text": [
      "Rate limit reached. Sleeping for: 254\n",
      "Rate limit reached. Sleeping for: 254\n"
     ]
    },
    {
     "name": "stdout",
     "output_type": "stream",
     "text": [
      "Error in 1063703529615835138\n",
      "Error in 1063703528735092736\n"
     ]
    },
    {
     "name": "stderr",
     "output_type": "stream",
     "text": [
      "Rate limit reached. Sleeping for: 254\n"
     ]
    },
    {
     "name": "stdout",
     "output_type": "stream",
     "text": [
      "Error in 1063703541511086085\n",
      "Error in 1063703541171331074\n"
     ]
    },
    {
     "name": "stderr",
     "output_type": "stream",
     "text": [
      "Rate limit reached. Sleeping for: 253\n",
      "Rate limit reached. Sleeping for: 253\n"
     ]
    },
    {
     "name": "stdout",
     "output_type": "stream",
     "text": [
      "Error in 1063703541859131392\n",
      "Error in 1063703545260720128\n"
     ]
    },
    {
     "name": "stderr",
     "output_type": "stream",
     "text": [
      "Rate limit reached. Sleeping for: 253\n"
     ]
    },
    {
     "name": "stdout",
     "output_type": "stream",
     "text": [
      "Error in 1063703547215257600\n",
      "Error in 1063703551363424256\n"
     ]
    },
    {
     "name": "stderr",
     "output_type": "stream",
     "text": [
      "Rate limit reached. Sleeping for: 253\n"
     ]
    },
    {
     "name": "stdout",
     "output_type": "stream",
     "text": [
      "Error in 1063703553968152576\n",
      "Error in 1063703558304993281\n",
      "Error in 1063703558787424256\n"
     ]
    },
    {
     "name": "stderr",
     "output_type": "stream",
     "text": [
      "Rate limit reached. Sleeping for: 252\n"
     ]
    },
    {
     "name": "stdout",
     "output_type": "stream",
     "text": [
      "Error in 1063703560351899648\n",
      "Error in 1063703562075676672\n",
      "Error in 1063703566009872391\n",
      "Error in 1063703566395822080\n"
     ]
    },
    {
     "name": "stderr",
     "output_type": "stream",
     "text": [
      "Rate limit reached. Sleeping for: 252\n"
     ]
    },
    {
     "name": "stdout",
     "output_type": "stream",
     "text": [
      "Error in 1063703567750623232\n",
      "Error in 1063703569960968192\n"
     ]
    },
    {
     "name": "stderr",
     "output_type": "stream",
     "text": [
      "Rate limit reached. Sleeping for: 251\n",
      "Rate limit reached. Sleeping for: 251\n"
     ]
    },
    {
     "name": "stdout",
     "output_type": "stream",
     "text": [
      "Error in 1063703570854408192\n",
      "Error in 1063703573073035265\n"
     ]
    },
    {
     "name": "stderr",
     "output_type": "stream",
     "text": [
      "Rate limit reached. Sleeping for: 251\n",
      "Rate limit reached. Sleeping for: 251\n"
     ]
    },
    {
     "name": "stdout",
     "output_type": "stream",
     "text": [
      "Error in 1063703578223828993\n",
      "Error in 1063703578861199361\n",
      "Error in 1063703580757057536\n",
      "Error in 1063703582954962944\n",
      "Error in 1063703583206662144\n"
     ]
    },
    {
     "name": "stderr",
     "output_type": "stream",
     "text": [
      "Rate limit reached. Sleeping for: 250\n"
     ]
    },
    {
     "name": "stdout",
     "output_type": "stream",
     "text": [
      "Error in 1063703583969939456\n",
      "Error in 1063703585152794624\n"
     ]
    },
    {
     "name": "stderr",
     "output_type": "stream",
     "text": [
      "Rate limit reached. Sleeping for: 250\n",
      "Rate limit reached. Sleeping for: 249\n"
     ]
    },
    {
     "name": "stdout",
     "output_type": "stream",
     "text": [
      "Error in 1063703590924181504\n",
      "Error in 1063703595000913920\n"
     ]
    },
    {
     "name": "stderr",
     "output_type": "stream",
     "text": [
      "Rate limit reached. Sleeping for: 249\n",
      "Rate limit reached. Sleeping for: 249\n"
     ]
    },
    {
     "name": "stdout",
     "output_type": "stream",
     "text": [
      "Error in 1063703596481617920\n",
      "Error in 1063703598549409793\n",
      "Error in 1063703598897512450\n",
      "Error in 1063703599421841408\n"
     ]
    },
    {
     "name": "stderr",
     "output_type": "stream",
     "text": [
      "Rate limit reached. Sleeping for: 249\n",
      "Rate limit reached. Sleeping for: 248\n"
     ]
    },
    {
     "name": "stdout",
     "output_type": "stream",
     "text": [
      "Error in 1063703599908294656\n",
      "Error in 1063703603402153985\n"
     ]
    },
    {
     "name": "stderr",
     "output_type": "stream",
     "text": [
      "Rate limit reached. Sleeping for: 248\n"
     ]
    },
    {
     "name": "stdout",
     "output_type": "stream",
     "text": [
      "Error in 1063703611899809792\n",
      "Error in 1063703613900554240\n",
      "Error in 1063703613980254208\n",
      "Error in 1063703616920395776\n",
      "Error in 1063703616962277377\n",
      "Error in 1063703618493317120\n",
      "Error in 1063703619902627840\n",
      "Error in 1063703620556775425\n"
     ]
    },
    {
     "name": "stderr",
     "output_type": "stream",
     "text": [
      "Rate limit reached. Sleeping for: 247\n"
     ]
    },
    {
     "name": "stdout",
     "output_type": "stream",
     "text": [
      "Error in 1063703622024863746\n",
      "Error in 1063703624029794304\n"
     ]
    },
    {
     "name": "stderr",
     "output_type": "stream",
     "text": [
      "Rate limit reached. Sleeping for: 247\n",
      "Rate limit reached. Sleeping for: 246\n"
     ]
    },
    {
     "name": "stdout",
     "output_type": "stream",
     "text": [
      "Error in 1063703624130408448\n",
      "Error in 1063703625661329409\n",
      "Error in 1063703626273705985\n",
      "Error in 1063703628798554112\n"
     ]
    },
    {
     "name": "stderr",
     "output_type": "stream",
     "text": [
      "Rate limit reached. Sleeping for: 246\n"
     ]
    },
    {
     "name": "stdout",
     "output_type": "stream",
     "text": [
      "Error in 1063703639716294656\n",
      "Error in 1063703640257544192\n"
     ]
    },
    {
     "name": "stderr",
     "output_type": "stream",
     "text": [
      "Rate limit reached. Sleeping for: 246\n"
     ]
    },
    {
     "name": "stdout",
     "output_type": "stream",
     "text": [
      "Error in 1063703642098810880\n",
      "Error in 1063703642090270725\n"
     ]
    },
    {
     "name": "stderr",
     "output_type": "stream",
     "text": [
      "Rate limit reached. Sleeping for: 245\n"
     ]
    },
    {
     "name": "stdout",
     "output_type": "stream",
     "text": [
      "Error in 1063703642056708096\n",
      "Error in 1063703643331784704\n"
     ]
    },
    {
     "name": "stderr",
     "output_type": "stream",
     "text": [
      "Rate limit reached. Sleeping for: 245\n"
     ]
    },
    {
     "name": "stdout",
     "output_type": "stream",
     "text": [
      "Error in 1063703648247717888\n",
      "Error in 1063703650059481088\n"
     ]
    },
    {
     "name": "stderr",
     "output_type": "stream",
     "text": [
      "Rate limit reached. Sleeping for: 244\n"
     ]
    },
    {
     "name": "stdout",
     "output_type": "stream",
     "text": [
      "Error in 1063703650038476800\n",
      "Error in 1063703652014133250\n",
      "Error in 1063703652546809858\n",
      "Error in 1063703654731939840\n"
     ]
    },
    {
     "name": "stderr",
     "output_type": "stream",
     "text": [
      "Rate limit reached. Sleeping for: 243\n",
      "Rate limit reached. Sleeping for: 237\n"
     ]
    },
    {
     "name": "stdout",
     "output_type": "stream",
     "text": [
      "Error in 1063703657840029696\n",
      "Error in 1063703658309783552\n",
      "Error in 1063703661371686912\n"
     ]
    },
    {
     "name": "stderr",
     "output_type": "stream",
     "text": [
      "Rate limit reached. Sleeping for: 236\n"
     ]
    },
    {
     "name": "stdout",
     "output_type": "stream",
     "text": [
      "Error in 1063703661702979584\n",
      "Error in 1063703661921091585\n",
      "Error in 1063703663082905600\n",
      "Error in 1063703663682744321\n"
     ]
    },
    {
     "name": "stderr",
     "output_type": "stream",
     "text": [
      "Rate limit reached. Sleeping for: 236\n",
      "Rate limit reached. Sleeping for: 235\n"
     ]
    },
    {
     "name": "stdout",
     "output_type": "stream",
     "text": [
      "Error in 1063703664307724290\n",
      "Error in 1063703667600166912\n"
     ]
    },
    {
     "name": "stderr",
     "output_type": "stream",
     "text": [
      "Rate limit reached. Sleeping for: 235\n"
     ]
    },
    {
     "name": "stdout",
     "output_type": "stream",
     "text": [
      "Error in 1063703669797879808\n",
      "Error in 1063703670615928832\n"
     ]
    },
    {
     "name": "stderr",
     "output_type": "stream",
     "text": [
      "Rate limit reached. Sleeping for: 235\n"
     ]
    },
    {
     "name": "stdout",
     "output_type": "stream",
     "text": [
      "Error in 1063703672281026561\n",
      "Error in 1063703673404973056\n",
      "Error in 1063703676840226816\n",
      "Error in 1063703680610783238\n"
     ]
    },
    {
     "name": "stderr",
     "output_type": "stream",
     "text": [
      "Rate limit reached. Sleeping for: 234\n"
     ]
    },
    {
     "name": "stdout",
     "output_type": "stream",
     "text": [
      "Error in 1063703682137624576\n",
      "Error in 1063703682242539520\n"
     ]
    },
    {
     "name": "stderr",
     "output_type": "stream",
     "text": [
      "Rate limit reached. Sleeping for: 234\n"
     ]
    },
    {
     "name": "stdout",
     "output_type": "stream",
     "text": [
      "Error in 1063703683190480896\n",
      "Error in 1063703685618941952\n"
     ]
    },
    {
     "name": "stderr",
     "output_type": "stream",
     "text": [
      "Rate limit reached. Sleeping for: 233\n"
     ]
    },
    {
     "name": "stdout",
     "output_type": "stream",
     "text": [
      "Error in 1063703688890540033\n",
      "Error in 1063703689704210432\n"
     ]
    },
    {
     "name": "stderr",
     "output_type": "stream",
     "text": [
      "Rate limit reached. Sleeping for: 233\n",
      "Rate limit reached. Sleeping for: 233\n"
     ]
    },
    {
     "name": "stdout",
     "output_type": "stream",
     "text": [
      "Error in 1063703690270265345\n",
      "Error in 1063703690471723008\n"
     ]
    },
    {
     "name": "stderr",
     "output_type": "stream",
     "text": [
      "Rate limit reached. Sleeping for: 232\n"
     ]
    },
    {
     "name": "stdout",
     "output_type": "stream",
     "text": [
      "Error in 1063703693890076674\n"
     ]
    },
    {
     "name": "stderr",
     "output_type": "stream",
     "text": [
      "Rate limit reached. Sleeping for: 232\n"
     ]
    },
    {
     "name": "stdout",
     "output_type": "stream",
     "text": [
      "Error in 1063703693755932673\n",
      "Error in 1063703693969698821\n"
     ]
    },
    {
     "name": "stderr",
     "output_type": "stream",
     "text": [
      "Rate limit reached. Sleeping for: 232\n",
      "Rate limit reached. Sleeping for: 232\n"
     ]
    },
    {
     "name": "stdout",
     "output_type": "stream",
     "text": [
      "Error in 1063703697987956737\n",
      "Error in 1063703699938144257\n"
     ]
    },
    {
     "name": "stderr",
     "output_type": "stream",
     "text": [
      "Rate limit reached. Sleeping for: 232\n"
     ]
    },
    {
     "name": "stdout",
     "output_type": "stream",
     "text": [
      "Error in 1063703705453805568\n",
      "Error in 1063703713951465472\n"
     ]
    },
    {
     "name": "stderr",
     "output_type": "stream",
     "text": [
      "Rate limit reached. Sleeping for: 231\n",
      "Rate limit reached. Sleeping for: 231\n"
     ]
    },
    {
     "name": "stdout",
     "output_type": "stream",
     "text": [
      "Error in 1063703715264282627\n"
     ]
    }
   ],
   "source": [
    "with open('/home/anant/adi project/tweetsFromID.csv', 'wb') as f:\n",
    "    writer = unicodecsv.writer(f)\n",
    "    writer.writerow([\"/home/anant/adi project/Id\",\"Text\",\"TweetCreatedAt\", \"Retweeted\", \"UserFavouriteCount\",\"UserName\",\n",
    "                     \"UserScreenName\", \"UserId\", \"UserLocation\", \"UserFollowersCount\",\n",
    "                     \"UsrFriendsCount\",\"UserCreatedAt\", \"UserStatusCount\"])\n",
    "    for tid in data[\"id\"]:\n",
    "        writer.writerow(get_tweet(str(tid)))"
   ]
  },
  {
   "cell_type": "code",
   "execution_count": null,
   "metadata": {},
   "outputs": [],
   "source": []
  }
 ],
 "metadata": {
  "kernelspec": {
   "display_name": "Python 3",
   "language": "python",
   "name": "python3"
  },
  "language_info": {
   "codemirror_mode": {
    "name": "ipython",
    "version": 3
   },
   "file_extension": ".py",
   "mimetype": "text/x-python",
   "name": "python",
   "nbconvert_exporter": "python",
   "pygments_lexer": "ipython3",
   "version": "3.6.7"
  }
 },
 "nbformat": 4,
 "nbformat_minor": 2
}
