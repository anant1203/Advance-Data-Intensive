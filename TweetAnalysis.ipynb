{
 "cells": [
  {
   "cell_type": "markdown",
   "metadata": {},
   "source": [
    "## Import Required libraries"
   ]
  },
  {
   "cell_type": "code",
   "execution_count": 1,
   "metadata": {},
   "outputs": [
    {
     "name": "stderr",
     "output_type": "stream",
     "text": [
      "[nltk_data] Downloading package wordnet to /home/anant/nltk_data...\n",
      "[nltk_data]   Package wordnet is already up-to-date!\n"
     ]
    },
    {
     "ename": "ModuleNotFoundError",
     "evalue": "No module named 'textblob'",
     "output_type": "error",
     "traceback": [
      "\u001b[0;31m---------------------------------------------------------------------------\u001b[0m",
      "\u001b[0;31mModuleNotFoundError\u001b[0m                       Traceback (most recent call last)",
      "\u001b[0;32m<ipython-input-1-c3c85cd1f20f>\u001b[0m in \u001b[0;36m<module>\u001b[0;34m\u001b[0m\n\u001b[1;32m      8\u001b[0m \u001b[0;32mimport\u001b[0m \u001b[0mmath\u001b[0m\u001b[0;34m\u001b[0m\u001b[0;34m\u001b[0m\u001b[0m\n\u001b[1;32m      9\u001b[0m \u001b[0;32mimport\u001b[0m \u001b[0mwarnings\u001b[0m\u001b[0;34m\u001b[0m\u001b[0;34m\u001b[0m\u001b[0m\n\u001b[0;32m---> 10\u001b[0;31m \u001b[0;32mfrom\u001b[0m \u001b[0mtextblob\u001b[0m \u001b[0;32mimport\u001b[0m \u001b[0mTextBlob\u001b[0m\u001b[0;34m\u001b[0m\u001b[0;34m\u001b[0m\u001b[0m\n\u001b[0m",
      "\u001b[0;31mModuleNotFoundError\u001b[0m: No module named 'textblob'"
     ]
    }
   ],
   "source": [
    "import pandas as pd\n",
    "import numpy as np\n",
    "import re\n",
    "from nltk.stem import WordNetLemmatizer\n",
    "import nltk\n",
    "nltk.download('wordnet')\n",
    "import sys\n",
    "import math\n",
    "import warnings\n",
    "from textblob import TextBlob"
   ]
  },
  {
   "cell_type": "markdown",
   "metadata": {},
   "source": [
    "## Read Data"
   ]
  },
  {
   "cell_type": "code",
   "execution_count": 2,
   "metadata": {},
   "outputs": [],
   "source": [
    "d = pd.read_csv(\"/home/anant/adi project/tweetsFromID.csv\")"
   ]
  },
  {
   "cell_type": "code",
   "execution_count": 3,
   "metadata": {},
   "outputs": [
    {
     "data": {
      "text/plain": [
       "43191"
      ]
     },
     "execution_count": 3,
     "metadata": {},
     "output_type": "execute_result"
    }
   ],
   "source": [
    "len(d)"
   ]
  },
  {
   "cell_type": "markdown",
   "metadata": {},
   "source": [
    "#### Remove nan Tweets and Create copy of data"
   ]
  },
  {
   "cell_type": "code",
   "execution_count": 4,
   "metadata": {},
   "outputs": [],
   "source": [
    "d = d.dropna(subset=['Text'])"
   ]
  },
  {
   "cell_type": "code",
   "execution_count": 5,
   "metadata": {},
   "outputs": [],
   "source": [
    "data = d.copy()"
   ]
  },
  {
   "cell_type": "markdown",
   "metadata": {},
   "source": [
    "## Cleaning Data"
   ]
  },
  {
   "cell_type": "code",
   "execution_count": null,
   "metadata": {},
   "outputs": [],
   "source": [
    "# removing emojis, lower case and removing hyperlink \n",
    "warnings.filterwarnings('ignore')\n",
    "for index, row in data.iterrows():\n",
    "#     emoji_pattern = re.compile(\"[\"\n",
    "#             u\"\\U0001F600-\\U0001F64F\"  # emoticons\n",
    "#             u\"\\U0001F300-\\U0001F5FF\"  # symbols & pictographs\n",
    "#             u\"\\U0001F680-\\U0001F6FF\"  # transport & map symbols\n",
    "#             u\"\\U0001F1E0-\\U0001F1FF\"  # flags (iOS)\n",
    "#                                \"]+\", flags=re.UNICODE)\n",
    "#     data[\"Text\"][index] = emoji_pattern.sub(r'', data[\"Text\"][index])\n",
    "    data[\"Text\"][index] = re.sub(r\"http\\S+\", \"\", data[\"Text\"][index].strip('.@,-()\"\\'?!#\\\\:').lower())"
   ]
  },
  {
   "cell_type": "code",
   "execution_count": null,
   "metadata": {},
   "outputs": [],
   "source": [
    "# #removing punctuations and emojis from data and Lemmatizing\n",
    "# warnings.filterwarnings('ignore')\n",
    "# wordnet_lemmatizer = WordNetLemmatizer()\n",
    "\n",
    "# for index, row in data.iterrows():\n",
    "#     words = data[\"Text\"][index].split()\n",
    "#     data[\"Text\"][index]=\"\"\n",
    "#     for word in words:\n",
    "#         data[\"Text\"][index] = data[\"Text\"][index] + wordnet_lemmatizer.lemmatize(word.strip('.@,-()\"\\'?!#\\\\:')) + \" \""
   ]
  },
  {
   "cell_type": "markdown",
   "metadata": {},
   "source": [
    "#### Create copy of clean data"
   ]
  },
  {
   "cell_type": "code",
   "execution_count": 8,
   "metadata": {},
   "outputs": [],
   "source": [
    "clean_data = data[:18000].copy()"
   ]
  },
  {
   "cell_type": "code",
   "execution_count": 9,
   "metadata": {},
   "outputs": [],
   "source": [
    "repVsdemo = {\"republican\":list(),\"democrats\":list()}\n",
    "for index,row in clean_data.iterrows():\n",
    "    if \"democrats\" in row[\"Text\"] or \"georgiademocrats\" in row[\"Text\"] or \"stacey\" in row[\"Text\"] or \"abrams\" in row[\"Text\"] or \"staceyabrams\" in row[\"Text\"] or \"teamabrams\" in row[\"Text\"] or \"imwithstacey\" in row[\"Text\"]:\n",
    "        repVsdemo[\"democrats\"].append(row[\"Text\"])\n",
    "    else :\n",
    "        repVsdemo[\"republican\"].append(row[\"Text\"])"
   ]
  },
  {
   "cell_type": "code",
   "execution_count": 10,
   "metadata": {},
   "outputs": [],
   "source": [
    "democratsAnalysis={\"positive\":0,\"negative\":0,\"neutral\":0}\n",
    "republicanAnalysis={\"positive\":0,\"negative\":0,\"neutral\":0}"
   ]
  },
  {
   "cell_type": "markdown",
   "metadata": {},
   "source": [
    "### democrats sentiment analysis"
   ]
  },
  {
   "cell_type": "code",
   "execution_count": 11,
   "metadata": {},
   "outputs": [],
   "source": [
    "for tweet in repVsdemo[\"democrats\"]:\n",
    "    analysis = TextBlob(tweet)\n",
    "    if analysis.sentiment.polarity > 0: \n",
    "        democratsAnalysis[\"positive\"]+=1\n",
    "    elif analysis.sentiment.polarity == 0:\n",
    "        democratsAnalysis[\"neutral\"]+=1\n",
    "    else:\n",
    "        democratsAnalysis[\"negative\"]+=1"
   ]
  },
  {
   "cell_type": "code",
   "execution_count": 12,
   "metadata": {},
   "outputs": [
    {
     "data": {
      "text/plain": [
       "{'positive': 8085, 'negative': 2153, 'neutral': 3425}"
      ]
     },
     "execution_count": 12,
     "metadata": {},
     "output_type": "execute_result"
    }
   ],
   "source": [
    "democratsAnalysis"
   ]
  },
  {
   "cell_type": "markdown",
   "metadata": {},
   "source": [
    "### Republican sentiment analysis"
   ]
  },
  {
   "cell_type": "code",
   "execution_count": 13,
   "metadata": {},
   "outputs": [],
   "source": [
    "for tweet in repVsdemo[\"republican\"]:\n",
    "    analysis = TextBlob(tweet)\n",
    "    if analysis.sentiment.polarity > 0: \n",
    "        republicanAnalysis[\"positive\"]+=1\n",
    "    elif analysis.sentiment.polarity == 0:\n",
    "        republicanAnalysis[\"neutral\"]+=1\n",
    "    else:\n",
    "        republicanAnalysis[\"negative\"]+=1"
   ]
  },
  {
   "cell_type": "code",
   "execution_count": 14,
   "metadata": {},
   "outputs": [
    {
     "data": {
      "text/plain": [
       "{'positive': 1294, 'negative': 1523, 'neutral': 1520}"
      ]
     },
     "execution_count": 14,
     "metadata": {},
     "output_type": "execute_result"
    }
   ],
   "source": [
    "republicanAnalysis"
   ]
  }
 ],
 "metadata": {
  "kernelspec": {
   "display_name": "Python 3",
   "language": "python",
   "name": "python3"
  },
  "language_info": {
   "codemirror_mode": {
    "name": "ipython",
    "version": 3
   },
   "file_extension": ".py",
   "mimetype": "text/x-python",
   "name": "python",
   "nbconvert_exporter": "python",
   "pygments_lexer": "ipython3",
   "version": "3.6.7"
  }
 },
 "nbformat": 4,
 "nbformat_minor": 2
}
